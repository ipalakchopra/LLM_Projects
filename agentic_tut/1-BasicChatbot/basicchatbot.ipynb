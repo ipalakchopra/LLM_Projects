{
 "cells": [
  {
   "cell_type": "markdown",
   "metadata": {},
   "source": [
    "### Building Basic Chatbot"
   ]
  },
  {
   "cell_type": "code",
   "execution_count": 2,
   "metadata": {},
   "outputs": [],
   "source": [
    "from typing import Annotated\n",
    "from typing_extensions import TypedDict\n",
    "from langgraph.graph import StateGraph, START, END\n",
    "from langgraph.graph.message import add_messages"
   ]
  },
  {
   "cell_type": "code",
   "execution_count": 3,
   "metadata": {},
   "outputs": [],
   "source": [
    "class State(TypedDict):\n",
    "    messages:Annotated[list,add_messages]\n",
    "\n",
    "graph_builder = StateGraph(State)"
   ]
  },
  {
   "cell_type": "code",
   "execution_count": 4,
   "metadata": {},
   "outputs": [
    {
     "data": {
      "text/plain": [
       "<langgraph.graph.state.StateGraph at 0x73288a7a1280>"
      ]
     },
     "execution_count": 4,
     "metadata": {},
     "output_type": "execute_result"
    }
   ],
   "source": [
    "graph_builder"
   ]
  },
  {
   "cell_type": "code",
   "execution_count": 5,
   "metadata": {},
   "outputs": [
    {
     "data": {
      "text/plain": [
       "True"
      ]
     },
     "execution_count": 5,
     "metadata": {},
     "output_type": "execute_result"
    }
   ],
   "source": [
    "import os\n",
    "from dotenv import load_dotenv\n",
    "load_dotenv()"
   ]
  },
  {
   "cell_type": "code",
   "execution_count": 8,
   "metadata": {},
   "outputs": [],
   "source": [
    "from langchain_groq import ChatGroq\n",
    "from langchain.chat_models import init_chat_model\n",
    "\n",
    "llm = init_chat_model(\"groq:llama-3.1-8b-instant\")"
   ]
  },
  {
   "cell_type": "code",
   "execution_count": 9,
   "metadata": {},
   "outputs": [
    {
     "data": {
      "text/plain": [
       "ChatGroq(client=<groq.resources.chat.completions.Completions object at 0x73288a0aed50>, async_client=<groq.resources.chat.completions.AsyncCompletions object at 0x73288a0ad3d0>, model_name='llama-3.1-8b-instant', model_kwargs={}, groq_api_key=SecretStr('**********'))"
      ]
     },
     "execution_count": 9,
     "metadata": {},
     "output_type": "execute_result"
    }
   ],
   "source": [
    "llm"
   ]
  },
  {
   "cell_type": "code",
   "execution_count": 10,
   "metadata": {},
   "outputs": [],
   "source": [
    "def chatbot(state:State):\n",
    "    return {\"messages\":[llm.invoke(state[\"messages\"])]}"
   ]
  },
  {
   "cell_type": "code",
   "execution_count": 13,
   "metadata": {},
   "outputs": [],
   "source": [
    "graph_builder = StateGraph(State)\n",
    "graph_builder.add_node(\"llmchatbot\",chatbot)\n",
    "graph_builder.add_edge(START, \"llmchatbot\")\n",
    "graph_builder.add_edge(\"llmchatbot\", END)\n",
    "\n",
    "graph = graph_builder.compile()"
   ]
  },
  {
   "cell_type": "code",
   "execution_count": 14,
   "metadata": {},
   "outputs": [
    {
     "data": {
      "image/png": "[encoded data removed]",
      "text/plain": [
       "<IPython.core.display.Image object>"
      ]
     },
     "metadata": {},
     "output_type": "display_data"
    }
   ],
   "source": [
    "from IPython.display import Image, display\n",
    "\n",
    "try:\n",
    "    display(Image(graph.get_graph().draw_mermaid_png()))\n",
    "except Exception:\n",
    "    pass"
   ]
  },
  {
   "cell_type": "code",
   "execution_count": 17,
   "metadata": {},
   "outputs": [
    {
     "data": {
      "text/plain": [
       "[HumanMessage(content='Hi', additional_kwargs={}, response_metadata={}, id='ead22cd6-acc3-4e7d-8526-374f34e6316d'),\n",
       " AIMessage(content=\"It's nice to meet you. Is there something I can help with or would you like to chat?\", additional_kwargs={}, response_metadata={'token_usage': {'completion_tokens': 22, 'prompt_tokens': 36, 'total_tokens': 58, 'completion_time': 0.029321574, 'prompt_time': 0.002046984, 'queue_time': 0.054365975, 'total_time': 0.031368558}, 'model_name': 'llama-3.1-8b-instant', 'system_fingerprint': 'fp_c54ae48ece', 'service_tier': 'on_demand', 'finish_reason': 'stop', 'logprobs': None}, id='run--f4f68ec3-bd58-47cf-ad14-0c8b2e415049-0', usage_metadata={'input_tokens': 36, 'output_tokens': 22, 'total_tokens': 58})]"
      ]
     },
     "execution_count": 17,
     "metadata": {},
     "output_type": "execute_result"
    }
   ],
   "source": [
    "response = graph.invoke({\"messages\":\"Hi\"})\n",
    "response[\"messages\"]"
   ]
  },
  {
   "cell_type": "code",
   "execution_count": 20,
   "metadata": {},
   "outputs": [
    {
     "name": "stdout",
     "output_type": "stream",
     "text": [
      "I'm functioning properly, thank you for asking. How can I assist you today?\n"
     ]
    }
   ],
   "source": [
    "for event in graph.stream({\"messages\":\"Hi how are you\"}):\n",
    "    for value in event.values():\n",
    "        print(value[\"messages\"][-1].content)"
   ]
  },
  {
   "cell_type": "code",
   "execution_count": null,
   "metadata": {},
   "outputs": [
    {
     "data": {
      "text/plain": [
       "{'query': 'what is langgraph',\n",
       " 'follow_up_questions': None,\n",
       " 'answer': None,\n",
       " 'images': [],\n",
       " 'results': [{'url': 'https://www.geeksforgeeks.org/machine-learning/what-is-langgraph/',\n",
       "   'title': 'What is LangGraph? - GeeksforGeeks',\n",
       "   'content': 'LangGraph is an open-source framework built by LangChain that streamlines the creation and management of AI agent workflows.',\n",
       "   'score': 0.94276565,\n",
       "   'raw_content': None},\n",
       "  {'url': 'https://www.analyticsvidhya.com/blog/2024/07/langgraph-revolutionizing-ai-agent/',\n",
       "   'title': 'What is LangGraph? - Analytics Vidhya',\n",
       "   'content': '* LangGraph is a library built on top of Langchain that is designed to facilitate the creation of cyclic graphs for large language model (LLM) – based AI agents. * Langgraph introduces a chat agent executor that represents the agent state as a list of messages, which is particularly useful for newer, chat-based models. The agent executor class in the Langchain framework was the main tool for building and executing AI agents before LangGraph. Large Language Models (LLMs) are the foundation for designing sophisticated AI agents, and LangGraph, built on top of Langchain, is intended to make the process of creating cyclic graphs easier. Ans. LangGraph addresses the limitations of previous AI agent development frameworks by providing more flexibility, better state management, and support for cyclic execution and multi-agent systems.',\n",
       "   'score': 0.9302622,\n",
       "   'raw_content': None}],\n",
       " 'response_time': 0.88,\n",
       " 'request_id': 'a3403d38-0bcf-4663-8a94-0c8968639bc6'}"
      ]
     },
     "execution_count": 21,
     "metadata": {},
     "output_type": "execute_result"
    }
   ],
   "source": [
    "from langchain_tavily import TavilySearch\n",
    "\n",
    "tool = TavilySearch(max_results=2)\n",
    "# tool.invoke(\"what is langgraph\")"
   ]
  },
  {
   "cell_type": "code",
   "execution_count": 38,
   "metadata": {},
   "outputs": [],
   "source": [
    "def multiply(a:int,b:int)->int:\n",
    "    \"\"\"Multiply a and b\n",
    "\n",
    "    Args:\n",
    "        a (int): first int\n",
    "        b (int): second int\n",
    "\n",
    "    Returns:\n",
    "        int: _description_\n",
    "    \"\"\"\n",
    "    return a*b"
   ]
  },
  {
   "cell_type": "code",
   "execution_count": 39,
   "metadata": {},
   "outputs": [],
   "source": [
    "tools = [tool, multiply]"
   ]
  },
  {
   "cell_type": "code",
   "execution_count": 40,
   "metadata": {},
   "outputs": [],
   "source": [
    "llm_with_tool = llm.bind_tools(tools)"
   ]
  },
  {
   "cell_type": "code",
   "execution_count": 41,
   "metadata": {},
   "outputs": [],
   "source": [
    "# llm_with_tool.invoke(\"4*2\")"
   ]
  },
  {
   "cell_type": "code",
   "execution_count": 63,
   "metadata": {},
   "outputs": [],
   "source": [
    "from langgraph.graph import StateGraph, START, END\n",
    "from langgraph.prebuilt import ToolNode, tools_condition\n",
    "\n",
    "def tool_calling_llm(state:State):\n",
    "    return {\"messages\":[llm_with_tool.invoke(state[\"messages\"])]}\n",
    "\n",
    "builder = StateGraph(State)\n",
    "builder.add_node(\"tool_calling_llm\",tool_calling_llm)\n",
    "builder.add_node(\"tools\",ToolNode(tools))\n",
    "\n",
    "builder.add_edge(START, \"tool_calling_llm\")\n",
    "builder.add_conditional_edges(\"tool_calling_llm\",tools_condition)\n",
    "builder.add_edge(\"tools\",\"tool_calling_llm\")\n",
    "# builder.add_edge(\"tool_calling_llm\",END)\n",
    "\n",
    "graph = builder.compile()"
   ]
  },
  {
   "cell_type": "code",
   "execution_count": 64,
   "metadata": {},
   "outputs": [
    {
     "data": {
      "image/png": "[encoded data removed]",
      "text/plain": [
       "<IPython.core.display.Image object>"
      ]
     },
     "metadata": {},
     "output_type": "display_data"
    }
   ],
   "source": [
    "from IPython.display import Image, display\n",
    "\n",
    "try:\n",
    "    display(Image(graph.get_graph().draw_mermaid_png()))\n",
    "except Exception:\n",
    "    pass"
   ]
  },
  {
   "cell_type": "code",
   "execution_count": 65,
   "metadata": {},
   "outputs": [
    {
     "name": "stdout",
     "output_type": "stream",
     "text": [
      "================================\u001b[1m Human Message \u001b[0m=================================\n",
      "\n",
      "multiply 4 and 2\n",
      "==================================\u001b[1m Ai Message \u001b[0m==================================\n",
      "Tool Calls:\n",
      "  multiply (vtgy848ch)\n",
      " Call ID: vtgy848ch\n",
      "  Args:\n",
      "    a: 4\n",
      "    b: 2\n",
      "=================================\u001b[1m Tool Message \u001b[0m=================================\n",
      "Name: multiply\n",
      "\n",
      "8\n",
      "==================================\u001b[1m Ai Message \u001b[0m==================================\n",
      "\n",
      "The output of the function is the product of the input parameters, which is 8.\n"
     ]
    }
   ],
   "source": [
    "response = graph.invoke({\"messages\":\"multiply 4 and 2\"})\n",
    "for m in response['messages']:\n",
    "    m.pretty_print()"
   ]
  },
  {
   "cell_type": "markdown",
   "metadata": {},
   "source": [
    "### Adding Memory"
   ]
  },
  {
   "cell_type": "code",
   "execution_count": 66,
   "metadata": {},
   "outputs": [],
   "source": [
    "from langgraph.graph import StateGraph, START, END\n",
    "from langgraph.prebuilt import ToolNode, tools_condition\n",
    "from langgraph.checkpoint.memory import MemorySaver\n",
    "\n",
    "memory = MemorySaver()\n",
    "\n",
    "def tool_calling_llm(state:State):\n",
    "    return {\"messages\":[llm_with_tool.invoke(state[\"messages\"])]}\n",
    "\n",
    "builder = StateGraph(State)\n",
    "builder.add_node(\"tool_calling_llm\",tool_calling_llm)\n",
    "builder.add_node(\"tools\",ToolNode(tools))\n",
    "\n",
    "builder.add_edge(START, \"tool_calling_llm\")\n",
    "builder.add_conditional_edges(\"tool_calling_llm\",tools_condition)\n",
    "builder.add_edge(\"tools\",\"tool_calling_llm\")\n",
    "# builder.add_edge(\"tool_calling_llm\",END)\n",
    "\n",
    "graph = builder.compile(checkpointer=memory)"
   ]
  },
  {
   "cell_type": "code",
   "execution_count": null,
   "metadata": {},
   "outputs": [
    {
     "data": {
      "text/plain": [
       "{'messages': [HumanMessage(content='hi im tutu', additional_kwargs={}, response_metadata={}, id='50998754-d268-4020-9ee7-8e36d26f63c0'),\n",
       "  AIMessage(content='Nice to meet you, Tutu! How can I assist you today?', additional_kwargs={}, response_metadata={'token_usage': {'completion_tokens': 16, 'prompt_tokens': 1853, 'total_tokens': 1869, 'completion_time': 0.020659808, 'prompt_time': 0.111531026, 'queue_time': 0.050102244, 'total_time': 0.132190834}, 'model_name': 'llama-3.1-8b-instant', 'system_fingerprint': 'fp_8804b970d6', 'service_tier': 'on_demand', 'finish_reason': 'stop', 'logprobs': None}, id='run--f0019b11-8051-425e-9dab-3200c63c4434-0', usage_metadata={'input_tokens': 1853, 'output_tokens': 16, 'total_tokens': 1869})]}"
      ]
     },
     "execution_count": 68,
     "metadata": {},
     "output_type": "execute_result"
    }
   ],
   "source": [
    "config={\"configurable\":{\"thread_id\":\"1\"}}\n",
    "\n",
    "graph.invoke({\"messages\":\"hi im tutu\"}, config=config)"
   ]
  },
  {
   "cell_type": "code",
   "execution_count": 69,
   "metadata": {},
   "outputs": [
    {
     "data": {
      "text/plain": [
       "{'messages': [HumanMessage(content='multiply 4 and 2', additional_kwargs={}, response_metadata={}, id='093231b4-ecf8-47ed-a698-ec9d894c9cce'),\n",
       "  AIMessage(content='', additional_kwargs={'tool_calls': [{'id': 'vtgy848ch', 'function': {'arguments': '{\"a\":4,\"b\":2}', 'name': 'multiply'}, 'type': 'function'}]}, response_metadata={'token_usage': {'completion_tokens': 19, 'prompt_tokens': 1855, 'total_tokens': 1874, 'completion_time': 0.028346228, 'prompt_time': 0.222802249, 'queue_time': 0.056006643, 'total_time': 0.251148477}, 'model_name': 'llama-3.1-8b-instant', 'system_fingerprint': 'fp_c54ae48ece', 'service_tier': 'on_demand', 'finish_reason': 'tool_calls', 'logprobs': None}, id='run--b773c709-14c2-4cd3-b323-25d78d445360-0', tool_calls=[{'name': 'multiply', 'args': {'a': 4, 'b': 2}, 'id': 'vtgy848ch', 'type': 'tool_call'}], usage_metadata={'input_tokens': 1855, 'output_tokens': 19, 'total_tokens': 1874}),\n",
       "  ToolMessage(content='8', name='multiply', id='15033cc6-7319-4310-a37e-8ce735a93fa9', tool_call_id='vtgy848ch'),\n",
       "  AIMessage(content='The output of the function is the product of the input parameters, which is 8.', additional_kwargs={}, response_metadata={'token_usage': {'completion_tokens': 19, 'prompt_tokens': 1885, 'total_tokens': 1904, 'completion_time': 0.049281071, 'prompt_time': 0.114347166, 'queue_time': 0.055198113, 'total_time': 0.163628237}, 'model_name': 'llama-3.1-8b-instant', 'system_fingerprint': 'fp_8804b970d6', 'service_tier': 'on_demand', 'finish_reason': 'stop', 'logprobs': None}, id='run--afd22c8b-5394-4d3c-8fd8-dc14ee4c88ab-0', usage_metadata={'input_tokens': 1885, 'output_tokens': 19, 'total_tokens': 1904})]}"
      ]
     },
     "execution_count": 69,
     "metadata": {},
     "output_type": "execute_result"
    }
   ],
   "source": [
    "response"
   ]
  },
  {
   "cell_type": "code",
   "execution_count": 70,
   "metadata": {},
   "outputs": [
    {
     "data": {
      "text/plain": [
       "{'messages': [HumanMessage(content='hi im tutu', additional_kwargs={}, response_metadata={}, id='50998754-d268-4020-9ee7-8e36d26f63c0'),\n",
       "  AIMessage(content='Nice to meet you, Tutu! How can I assist you today?', additional_kwargs={}, response_metadata={'token_usage': {'completion_tokens': 16, 'prompt_tokens': 1853, 'total_tokens': 1869, 'completion_time': 0.020659808, 'prompt_time': 0.111531026, 'queue_time': 0.050102244, 'total_time': 0.132190834}, 'model_name': 'llama-3.1-8b-instant', 'system_fingerprint': 'fp_8804b970d6', 'service_tier': 'on_demand', 'finish_reason': 'stop', 'logprobs': None}, id='run--f0019b11-8051-425e-9dab-3200c63c4434-0', usage_metadata={'input_tokens': 1853, 'output_tokens': 16, 'total_tokens': 1869}),\n",
       "  HumanMessage(content='who am i', additional_kwargs={}, response_metadata={}, id='4e236271-0a5e-43e6-a8e0-a8beda99e1cf'),\n",
       "  AIMessage(content='You told me your name is Tutu.', additional_kwargs={}, response_metadata={'token_usage': {'completion_tokens': 10, 'prompt_tokens': 1881, 'total_tokens': 1891, 'completion_time': 0.022579863, 'prompt_time': 0.113698784, 'queue_time': 0.056228557, 'total_time': 0.136278647}, 'model_name': 'llama-3.1-8b-instant', 'system_fingerprint': 'fp_c54ae48ece', 'service_tier': 'on_demand', 'finish_reason': 'stop', 'logprobs': None}, id='run--c2d6a9d2-4eee-49e8-b3a3-e2326e12fb1b-0', usage_metadata={'input_tokens': 1881, 'output_tokens': 10, 'total_tokens': 1891})]}"
      ]
     },
     "execution_count": 70,
     "metadata": {},
     "output_type": "execute_result"
    }
   ],
   "source": [
    "graph.invoke({\"messages\":\"who am i\"},config=config)"
   ]
  },
  {
   "cell_type": "markdown",
   "metadata": {},
   "source": [
    "### Streaming"
   ]
  },
  {
   "cell_type": "code",
   "execution_count": 71,
   "metadata": {},
   "outputs": [],
   "source": [
    "from langgraph.checkpoint.memory import MemorySaver\n",
    "\n",
    "memory = MemorySaver()"
   ]
  },
  {
   "cell_type": "code",
   "execution_count": 72,
   "metadata": {},
   "outputs": [],
   "source": [
    "def superbot(state:State):\n",
    "    return {\"messages\":[llm.invoke(state[\"messages\"])]}"
   ]
  },
  {
   "cell_type": "code",
   "execution_count": 75,
   "metadata": {},
   "outputs": [
    {
     "data": {
      "image/png": "[encoded data removed]",
      "text/plain": [
       "<IPython.core.display.Image object>"
      ]
     },
     "metadata": {},
     "output_type": "display_data"
    }
   ],
   "source": [
    "builder = StateGraph(State)\n",
    "builder.add_node(\"superbot\",superbot)\n",
    "\n",
    "builder.add_edge(START,\"superbot\")\n",
    "builder.add_edge(\"superbot\",END)\n",
    "graph = builder.compile(checkpointer=memory)\n",
    "\n",
    "from IPython.display import Image, display\n",
    "\n",
    "try:\n",
    "    display(Image(graph.get_graph().draw_mermaid_png()))\n",
    "except Exception:\n",
    "    pass"
   ]
  },
  {
   "cell_type": "code",
   "execution_count": 79,
   "metadata": {},
   "outputs": [
    {
     "data": {
      "text/plain": [
       "{'messages': [HumanMessage(content='im tutu and i like football', additional_kwargs={}, response_metadata={}, id='b096fce2-cdbe-46d1-bfc5-be49e6a03370'),\n",
       "  AIMessage(content=\"Nice to meet you, Tutu. It's great that you like football. Which team or league do you enjoy watching the most? Are you a fan of any particular football player or a specific position on the field?\", additional_kwargs={}, response_metadata={'token_usage': {'completion_tokens': 45, 'prompt_tokens': 42, 'total_tokens': 87, 'completion_time': 0.097809886, 'prompt_time': 0.002113283, 'queue_time': 0.055783187, 'total_time': 0.099923169}, 'model_name': 'llama-3.1-8b-instant', 'system_fingerprint': 'fp_8804b970d6', 'service_tier': 'on_demand', 'finish_reason': 'stop', 'logprobs': None}, id='run--4c88046f-d91d-4a33-8fc7-95180188837e-0', usage_metadata={'input_tokens': 42, 'output_tokens': 45, 'total_tokens': 87})]}"
      ]
     },
     "execution_count": 79,
     "metadata": {},
     "output_type": "execute_result"
    }
   ],
   "source": [
    "config = {\"configurable\":{\"thread_id\":\"2\"}}\n",
    "\n",
    "graph.invoke({\"messages\":\"im tutu and i like football\"},config=config)"
   ]
  },
  {
   "cell_type": "markdown",
   "metadata": {},
   "source": [
    "#### Streaming"
   ]
  },
  {
   "cell_type": "code",
   "execution_count": 81,
   "metadata": {},
   "outputs": [
    {
     "name": "stdout",
     "output_type": "stream",
     "text": [
      "{'messages': [HumanMessage(content='im tutu and i like football', additional_kwargs={}, response_metadata={}, id='7895e57f-bdbd-4927-8613-718ca9679228'), AIMessage(content=\"Nice to meet you, Tutu. It's great to hear that you like football! Which team is your favorite? Are you a fan of a particular league, like the English Premier League or La Liga?\", additional_kwargs={}, response_metadata={'token_usage': {'completion_tokens': 43, 'prompt_tokens': 42, 'total_tokens': 85, 'completion_time': 0.073971678, 'prompt_time': 0.002642457, 'queue_time': 0.048099063, 'total_time': 0.076614135}, 'model_name': 'llama-3.1-8b-instant', 'system_fingerprint': 'fp_8a13dfab2b', 'service_tier': 'on_demand', 'finish_reason': 'stop', 'logprobs': None}, id='run--6a77b189-c2d3-4d7a-86b6-8446143dd750-0', usage_metadata={'input_tokens': 42, 'output_tokens': 43, 'total_tokens': 85}), HumanMessage(content='im tutu and i like football', additional_kwargs={}, response_metadata={}, id='2e642f92-ef00-4425-ab82-d24a29ae7858')]}\n",
      "{'messages': [HumanMessage(content='im tutu and i like football', additional_kwargs={}, response_metadata={}, id='7895e57f-bdbd-4927-8613-718ca9679228'), AIMessage(content=\"Nice to meet you, Tutu. It's great to hear that you like football! Which team is your favorite? Are you a fan of a particular league, like the English Premier League or La Liga?\", additional_kwargs={}, response_metadata={'token_usage': {'completion_tokens': 43, 'prompt_tokens': 42, 'total_tokens': 85, 'completion_time': 0.073971678, 'prompt_time': 0.002642457, 'queue_time': 0.048099063, 'total_time': 0.076614135}, 'model_name': 'llama-3.1-8b-instant', 'system_fingerprint': 'fp_8a13dfab2b', 'service_tier': 'on_demand', 'finish_reason': 'stop', 'logprobs': None}, id='run--6a77b189-c2d3-4d7a-86b6-8446143dd750-0', usage_metadata={'input_tokens': 42, 'output_tokens': 43, 'total_tokens': 85}), HumanMessage(content='im tutu and i like football', additional_kwargs={}, response_metadata={}, id='2e642f92-ef00-4425-ab82-d24a29ae7858'), AIMessage(content=\"That's quite a simple and fun response. Football is a great sport to be interested in, and there are many exciting teams and leagues around the world. Do you have a favorite player or a team that you like to watch?\", additional_kwargs={}, response_metadata={'token_usage': {'completion_tokens': 47, 'prompt_tokens': 101, 'total_tokens': 148, 'completion_time': 0.100036931, 'prompt_time': 0.006009654, 'queue_time': 0.055714096, 'total_time': 0.106046585}, 'model_name': 'llama-3.1-8b-instant', 'system_fingerprint': 'fp_c54ae48ece', 'service_tier': 'on_demand', 'finish_reason': 'stop', 'logprobs': None}, id='run--0e21f6a7-9909-410c-985f-fa49a086d9a1-0', usage_metadata={'input_tokens': 101, 'output_tokens': 47, 'total_tokens': 148})]}\n"
     ]
    }
   ],
   "source": [
    "config = {\"configurable\":{\"thread_id\":\"3\"}}\n",
    "\n",
    "for chunk in graph.stream({\"messages\":\"im tutu and i like football\"}, config, stream_mode=\"values\"):\n",
    "    print(chunk)"
   ]
  },
  {
   "cell_type": "code",
   "execution_count": 83,
   "metadata": {},
   "outputs": [
    {
     "name": "stdout",
     "output_type": "stream",
     "text": [
      "{'superbot': {'messages': [AIMessage(content=\"Nice to meet you, Tutu. It's great that you like football. Which team do you support, or do you have a favorite player?\", additional_kwargs={}, response_metadata={'token_usage': {'completion_tokens': 31, 'prompt_tokens': 42, 'total_tokens': 73, 'completion_time': 0.051022601, 'prompt_time': 0.00203214, 'queue_time': 0.05012621, 'total_time': 0.053054741}, 'model_name': 'llama-3.1-8b-instant', 'system_fingerprint': 'fp_8a13dfab2b', 'service_tier': 'on_demand', 'finish_reason': 'stop', 'logprobs': None}, id='run--95a75e81-16ac-41f8-a361-4c27d48a7a2b-0', usage_metadata={'input_tokens': 42, 'output_tokens': 31, 'total_tokens': 73})]}}\n"
     ]
    }
   ],
   "source": [
    "config = {\"configurable\":{\"thread_id\":\"5\"}}\n",
    "\n",
    "for chunk in graph.stream({\"messages\":\"im tutu and i like football\"}, config, stream_mode=\"updates\"):\n",
    "    print(chunk)"
   ]
  },
  {
   "cell_type": "code",
   "execution_count": 85,
   "metadata": {},
   "outputs": [
    {
     "name": "stdout",
     "output_type": "stream",
     "text": [
      "{'messages': [HumanMessage(content='im tutu and i like football', additional_kwargs={}, response_metadata={}, id='cd456afd-aca3-4d65-ace4-a6ec5b01b761'), AIMessage(content=\"Nice to meet you, Tutu. It's great that you like football. Which team do you support, or do you have a favorite player?\", additional_kwargs={}, response_metadata={'token_usage': {'completion_tokens': 31, 'prompt_tokens': 42, 'total_tokens': 73, 'completion_time': 0.051022601, 'prompt_time': 0.00203214, 'queue_time': 0.05012621, 'total_time': 0.053054741}, 'model_name': 'llama-3.1-8b-instant', 'system_fingerprint': 'fp_8a13dfab2b', 'service_tier': 'on_demand', 'finish_reason': 'stop', 'logprobs': None}, id='run--95a75e81-16ac-41f8-a361-4c27d48a7a2b-0', usage_metadata={'input_tokens': 42, 'output_tokens': 31, 'total_tokens': 73}), HumanMessage(content='i also like football', additional_kwargs={}, response_metadata={}, id='09a0c93c-f06b-4364-af75-2972c12627a7'), AIMessage(content='It seems like we have a shared interest. Do you mean American football, or is it soccer (association football) that you enjoy?', additional_kwargs={}, response_metadata={'token_usage': {'completion_tokens': 28, 'prompt_tokens': 86, 'total_tokens': 114, 'completion_time': 0.052371075, 'prompt_time': 0.005103047, 'queue_time': 0.054424843, 'total_time': 0.057474122}, 'model_name': 'llama-3.1-8b-instant', 'system_fingerprint': 'fp_c54ae48ece', 'service_tier': 'on_demand', 'finish_reason': 'stop', 'logprobs': None}, id='run--e45891ad-5cab-48af-82ca-ca654db3ea5c-0', usage_metadata={'input_tokens': 86, 'output_tokens': 28, 'total_tokens': 114}), HumanMessage(content='i also like football', additional_kwargs={}, response_metadata={}, id='5a66cd91-81b0-4f93-818f-3de7dfae5ef5')]}\n",
      "{'messages': [HumanMessage(content='im tutu and i like football', additional_kwargs={}, response_metadata={}, id='cd456afd-aca3-4d65-ace4-a6ec5b01b761'), AIMessage(content=\"Nice to meet you, Tutu. It's great that you like football. Which team do you support, or do you have a favorite player?\", additional_kwargs={}, response_metadata={'token_usage': {'completion_tokens': 31, 'prompt_tokens': 42, 'total_tokens': 73, 'completion_time': 0.051022601, 'prompt_time': 0.00203214, 'queue_time': 0.05012621, 'total_time': 0.053054741}, 'model_name': 'llama-3.1-8b-instant', 'system_fingerprint': 'fp_8a13dfab2b', 'service_tier': 'on_demand', 'finish_reason': 'stop', 'logprobs': None}, id='run--95a75e81-16ac-41f8-a361-4c27d48a7a2b-0', usage_metadata={'input_tokens': 42, 'output_tokens': 31, 'total_tokens': 73}), HumanMessage(content='i also like football', additional_kwargs={}, response_metadata={}, id='09a0c93c-f06b-4364-af75-2972c12627a7'), AIMessage(content='It seems like we have a shared interest. Do you mean American football, or is it soccer (association football) that you enjoy?', additional_kwargs={}, response_metadata={'token_usage': {'completion_tokens': 28, 'prompt_tokens': 86, 'total_tokens': 114, 'completion_time': 0.052371075, 'prompt_time': 0.005103047, 'queue_time': 0.054424843, 'total_time': 0.057474122}, 'model_name': 'llama-3.1-8b-instant', 'system_fingerprint': 'fp_c54ae48ece', 'service_tier': 'on_demand', 'finish_reason': 'stop', 'logprobs': None}, id='run--e45891ad-5cab-48af-82ca-ca654db3ea5c-0', usage_metadata={'input_tokens': 86, 'output_tokens': 28, 'total_tokens': 114}), HumanMessage(content='i also like football', additional_kwargs={}, response_metadata={}, id='5a66cd91-81b0-4f93-818f-3de7dfae5ef5'), AIMessage(content='You seem to be referring to soccer, as that\\'s the most common sport called \"football\" globally. Which league or tournament is your favorite, such as the English Premier League, La Liga, or the World Cup?', additional_kwargs={}, response_metadata={'token_usage': {'completion_tokens': 45, 'prompt_tokens': 127, 'total_tokens': 172, 'completion_time': 0.08319683, 'prompt_time': 0.007729973, 'queue_time': 0.072388596, 'total_time': 0.090926803}, 'model_name': 'llama-3.1-8b-instant', 'system_fingerprint': 'fp_c54ae48ece', 'service_tier': 'on_demand', 'finish_reason': 'stop', 'logprobs': None}, id='run--d98a9968-16cd-40b4-a34f-a68244220780-0', usage_metadata={'input_tokens': 127, 'output_tokens': 45, 'total_tokens': 172})]}\n"
     ]
    }
   ],
   "source": [
    "for chunk in graph.stream({\"messages\":\"i also like football\"}, config, stream_mode=\"values\"):\n",
    "    print(chunk)"
   ]
  },
  {
   "cell_type": "code",
   "execution_count": 87,
   "metadata": {},
   "outputs": [
    {
     "name": "stdout",
     "output_type": "stream",
     "text": [
      "{'event': 'on_chain_start', 'data': {'input': {'messages': 'im tutu and i like football'}}, 'name': 'LangGraph', 'tags': [], 'run_id': '17f38362-6e72-4bf6-9489-a1005a563339', 'metadata': {'thread_id': '6'}, 'parent_ids': []}\n",
      "{'event': 'on_chain_start', 'data': {'input': {'messages': [HumanMessage(content='im tutu and i like football', additional_kwargs={}, response_metadata={}, id='0b0bc265-ac97-4e30-9552-d1096f70f40e')]}}, 'name': 'superbot', 'tags': ['graph:step:1'], 'run_id': 'cc22c172-e291-4ded-8d86-cab27b551cc5', 'metadata': {'thread_id': '6', 'langgraph_step': 1, 'langgraph_node': 'superbot', 'langgraph_triggers': ('branch:to:superbot',), 'langgraph_path': ('__pregel_pull', 'superbot'), 'langgraph_checkpoint_ns': 'superbot:4c107950-8f38-35f8-4e6d-93b8245d0812'}, 'parent_ids': ['17f38362-6e72-4bf6-9489-a1005a563339']}\n",
      "{'event': 'on_chat_model_start', 'data': {'input': {'messages': [[HumanMessage(content='im tutu and i like football', additional_kwargs={}, response_metadata={}, id='0b0bc265-ac97-4e30-9552-d1096f70f40e')]]}}, 'name': 'ChatGroq', 'tags': ['seq:step:1'], 'run_id': 'af44d051-9fa0-45f4-8abc-11c4d7d6e76a', 'metadata': {'thread_id': '6', 'langgraph_step': 1, 'langgraph_node': 'superbot', 'langgraph_triggers': ('branch:to:superbot',), 'langgraph_path': ('__pregel_pull', 'superbot'), 'langgraph_checkpoint_ns': 'superbot:4c107950-8f38-35f8-4e6d-93b8245d0812', 'checkpoint_ns': 'superbot:4c107950-8f38-35f8-4e6d-93b8245d0812', 'ls_provider': 'groq', 'ls_model_name': 'llama-3.1-8b-instant', 'ls_model_type': 'chat', 'ls_temperature': 0.7}, 'parent_ids': ['17f38362-6e72-4bf6-9489-a1005a563339', 'cc22c172-e291-4ded-8d86-cab27b551cc5']}\n",
      "{'event': 'on_chat_model_stream', 'data': {'chunk': AIMessageChunk(content='', additional_kwargs={}, response_metadata={}, id='run--af44d051-9fa0-45f4-8abc-11c4d7d6e76a')}, 'run_id': 'af44d051-9fa0-45f4-8abc-11c4d7d6e76a', 'name': 'ChatGroq', 'tags': ['seq:step:1'], 'metadata': {'thread_id': '6', 'langgraph_step': 1, 'langgraph_node': 'superbot', 'langgraph_triggers': ('branch:to:superbot',), 'langgraph_path': ('__pregel_pull', 'superbot'), 'langgraph_checkpoint_ns': 'superbot:4c107950-8f38-35f8-4e6d-93b8245d0812', 'checkpoint_ns': 'superbot:4c107950-8f38-35f8-4e6d-93b8245d0812', 'ls_provider': 'groq', 'ls_model_name': 'llama-3.1-8b-instant', 'ls_model_type': 'chat', 'ls_temperature': 0.7}, 'parent_ids': ['17f38362-6e72-4bf6-9489-a1005a563339', 'cc22c172-e291-4ded-8d86-cab27b551cc5']}\n",
      "{'event': 'on_chat_model_stream', 'data': {'chunk': AIMessageChunk(content='Hello', additional_kwargs={}, response_metadata={}, id='run--af44d051-9fa0-45f4-8abc-11c4d7d6e76a')}, 'run_id': 'af44d051-9fa0-45f4-8abc-11c4d7d6e76a', 'name': 'ChatGroq', 'tags': ['seq:step:1'], 'metadata': {'thread_id': '6', 'langgraph_step': 1, 'langgraph_node': 'superbot', 'langgraph_triggers': ('branch:to:superbot',), 'langgraph_path': ('__pregel_pull', 'superbot'), 'langgraph_checkpoint_ns': 'superbot:4c107950-8f38-35f8-4e6d-93b8245d0812', 'checkpoint_ns': 'superbot:4c107950-8f38-35f8-4e6d-93b8245d0812', 'ls_provider': 'groq', 'ls_model_name': 'llama-3.1-8b-instant', 'ls_model_type': 'chat', 'ls_temperature': 0.7}, 'parent_ids': ['17f38362-6e72-4bf6-9489-a1005a563339', 'cc22c172-e291-4ded-8d86-cab27b551cc5']}\n",
      "{'event': 'on_chat_model_stream', 'data': {'chunk': AIMessageChunk(content=' Tut', additional_kwargs={}, response_metadata={}, id='run--af44d051-9fa0-45f4-8abc-11c4d7d6e76a')}, 'run_id': 'af44d051-9fa0-45f4-8abc-11c4d7d6e76a', 'name': 'ChatGroq', 'tags': ['seq:step:1'], 'metadata': {'thread_id': '6', 'langgraph_step': 1, 'langgraph_node': 'superbot', 'langgraph_triggers': ('branch:to:superbot',), 'langgraph_path': ('__pregel_pull', 'superbot'), 'langgraph_checkpoint_ns': 'superbot:4c107950-8f38-35f8-4e6d-93b8245d0812', 'checkpoint_ns': 'superbot:4c107950-8f38-35f8-4e6d-93b8245d0812', 'ls_provider': 'groq', 'ls_model_name': 'llama-3.1-8b-instant', 'ls_model_type': 'chat', 'ls_temperature': 0.7}, 'parent_ids': ['17f38362-6e72-4bf6-9489-a1005a563339', 'cc22c172-e291-4ded-8d86-cab27b551cc5']}\n",
      "{'event': 'on_chat_model_stream', 'data': {'chunk': AIMessageChunk(content='u', additional_kwargs={}, response_metadata={}, id='run--af44d051-9fa0-45f4-8abc-11c4d7d6e76a')}, 'run_id': 'af44d051-9fa0-45f4-8abc-11c4d7d6e76a', 'name': 'ChatGroq', 'tags': ['seq:step:1'], 'metadata': {'thread_id': '6', 'langgraph_step': 1, 'langgraph_node': 'superbot', 'langgraph_triggers': ('branch:to:superbot',), 'langgraph_path': ('__pregel_pull', 'superbot'), 'langgraph_checkpoint_ns': 'superbot:4c107950-8f38-35f8-4e6d-93b8245d0812', 'checkpoint_ns': 'superbot:4c107950-8f38-35f8-4e6d-93b8245d0812', 'ls_provider': 'groq', 'ls_model_name': 'llama-3.1-8b-instant', 'ls_model_type': 'chat', 'ls_temperature': 0.7}, 'parent_ids': ['17f38362-6e72-4bf6-9489-a1005a563339', 'cc22c172-e291-4ded-8d86-cab27b551cc5']}\n",
      "{'event': 'on_chat_model_stream', 'data': {'chunk': AIMessageChunk(content=',', additional_kwargs={}, response_metadata={}, id='run--af44d051-9fa0-45f4-8abc-11c4d7d6e76a')}, 'run_id': 'af44d051-9fa0-45f4-8abc-11c4d7d6e76a', 'name': 'ChatGroq', 'tags': ['seq:step:1'], 'metadata': {'thread_id': '6', 'langgraph_step': 1, 'langgraph_node': 'superbot', 'langgraph_triggers': ('branch:to:superbot',), 'langgraph_path': ('__pregel_pull', 'superbot'), 'langgraph_checkpoint_ns': 'superbot:4c107950-8f38-35f8-4e6d-93b8245d0812', 'checkpoint_ns': 'superbot:4c107950-8f38-35f8-4e6d-93b8245d0812', 'ls_provider': 'groq', 'ls_model_name': 'llama-3.1-8b-instant', 'ls_model_type': 'chat', 'ls_temperature': 0.7}, 'parent_ids': ['17f38362-6e72-4bf6-9489-a1005a563339', 'cc22c172-e291-4ded-8d86-cab27b551cc5']}\n",
      "{'event': 'on_chat_model_stream', 'data': {'chunk': AIMessageChunk(content=' it', additional_kwargs={}, response_metadata={}, id='run--af44d051-9fa0-45f4-8abc-11c4d7d6e76a')}, 'run_id': 'af44d051-9fa0-45f4-8abc-11c4d7d6e76a', 'name': 'ChatGroq', 'tags': ['seq:step:1'], 'metadata': {'thread_id': '6', 'langgraph_step': 1, 'langgraph_node': 'superbot', 'langgraph_triggers': ('branch:to:superbot',), 'langgraph_path': ('__pregel_pull', 'superbot'), 'langgraph_checkpoint_ns': 'superbot:4c107950-8f38-35f8-4e6d-93b8245d0812', 'checkpoint_ns': 'superbot:4c107950-8f38-35f8-4e6d-93b8245d0812', 'ls_provider': 'groq', 'ls_model_name': 'llama-3.1-8b-instant', 'ls_model_type': 'chat', 'ls_temperature': 0.7}, 'parent_ids': ['17f38362-6e72-4bf6-9489-a1005a563339', 'cc22c172-e291-4ded-8d86-cab27b551cc5']}\n",
      "{'event': 'on_chat_model_stream', 'data': {'chunk': AIMessageChunk(content=\"'s\", additional_kwargs={}, response_metadata={}, id='run--af44d051-9fa0-45f4-8abc-11c4d7d6e76a')}, 'run_id': 'af44d051-9fa0-45f4-8abc-11c4d7d6e76a', 'name': 'ChatGroq', 'tags': ['seq:step:1'], 'metadata': {'thread_id': '6', 'langgraph_step': 1, 'langgraph_node': 'superbot', 'langgraph_triggers': ('branch:to:superbot',), 'langgraph_path': ('__pregel_pull', 'superbot'), 'langgraph_checkpoint_ns': 'superbot:4c107950-8f38-35f8-4e6d-93b8245d0812', 'checkpoint_ns': 'superbot:4c107950-8f38-35f8-4e6d-93b8245d0812', 'ls_provider': 'groq', 'ls_model_name': 'llama-3.1-8b-instant', 'ls_model_type': 'chat', 'ls_temperature': 0.7}, 'parent_ids': ['17f38362-6e72-4bf6-9489-a1005a563339', 'cc22c172-e291-4ded-8d86-cab27b551cc5']}\n",
      "{'event': 'on_chat_model_stream', 'data': {'chunk': AIMessageChunk(content=' great', additional_kwargs={}, response_metadata={}, id='run--af44d051-9fa0-45f4-8abc-11c4d7d6e76a')}, 'run_id': 'af44d051-9fa0-45f4-8abc-11c4d7d6e76a', 'name': 'ChatGroq', 'tags': ['seq:step:1'], 'metadata': {'thread_id': '6', 'langgraph_step': 1, 'langgraph_node': 'superbot', 'langgraph_triggers': ('branch:to:superbot',), 'langgraph_path': ('__pregel_pull', 'superbot'), 'langgraph_checkpoint_ns': 'superbot:4c107950-8f38-35f8-4e6d-93b8245d0812', 'checkpoint_ns': 'superbot:4c107950-8f38-35f8-4e6d-93b8245d0812', 'ls_provider': 'groq', 'ls_model_name': 'llama-3.1-8b-instant', 'ls_model_type': 'chat', 'ls_temperature': 0.7}, 'parent_ids': ['17f38362-6e72-4bf6-9489-a1005a563339', 'cc22c172-e291-4ded-8d86-cab27b551cc5']}\n",
      "{'event': 'on_chat_model_stream', 'data': {'chunk': AIMessageChunk(content=' to', additional_kwargs={}, response_metadata={}, id='run--af44d051-9fa0-45f4-8abc-11c4d7d6e76a')}, 'run_id': 'af44d051-9fa0-45f4-8abc-11c4d7d6e76a', 'name': 'ChatGroq', 'tags': ['seq:step:1'], 'metadata': {'thread_id': '6', 'langgraph_step': 1, 'langgraph_node': 'superbot', 'langgraph_triggers': ('branch:to:superbot',), 'langgraph_path': ('__pregel_pull', 'superbot'), 'langgraph_checkpoint_ns': 'superbot:4c107950-8f38-35f8-4e6d-93b8245d0812', 'checkpoint_ns': 'superbot:4c107950-8f38-35f8-4e6d-93b8245d0812', 'ls_provider': 'groq', 'ls_model_name': 'llama-3.1-8b-instant', 'ls_model_type': 'chat', 'ls_temperature': 0.7}, 'parent_ids': ['17f38362-6e72-4bf6-9489-a1005a563339', 'cc22c172-e291-4ded-8d86-cab27b551cc5']}\n",
      "{'event': 'on_chat_model_stream', 'data': {'chunk': AIMessageChunk(content=' meet', additional_kwargs={}, response_metadata={}, id='run--af44d051-9fa0-45f4-8abc-11c4d7d6e76a')}, 'run_id': 'af44d051-9fa0-45f4-8abc-11c4d7d6e76a', 'name': 'ChatGroq', 'tags': ['seq:step:1'], 'metadata': {'thread_id': '6', 'langgraph_step': 1, 'langgraph_node': 'superbot', 'langgraph_triggers': ('branch:to:superbot',), 'langgraph_path': ('__pregel_pull', 'superbot'), 'langgraph_checkpoint_ns': 'superbot:4c107950-8f38-35f8-4e6d-93b8245d0812', 'checkpoint_ns': 'superbot:4c107950-8f38-35f8-4e6d-93b8245d0812', 'ls_provider': 'groq', 'ls_model_name': 'llama-3.1-8b-instant', 'ls_model_type': 'chat', 'ls_temperature': 0.7}, 'parent_ids': ['17f38362-6e72-4bf6-9489-a1005a563339', 'cc22c172-e291-4ded-8d86-cab27b551cc5']}\n",
      "{'event': 'on_chat_model_stream', 'data': {'chunk': AIMessageChunk(content=' you', additional_kwargs={}, response_metadata={}, id='run--af44d051-9fa0-45f4-8abc-11c4d7d6e76a')}, 'run_id': 'af44d051-9fa0-45f4-8abc-11c4d7d6e76a', 'name': 'ChatGroq', 'tags': ['seq:step:1'], 'metadata': {'thread_id': '6', 'langgraph_step': 1, 'langgraph_node': 'superbot', 'langgraph_triggers': ('branch:to:superbot',), 'langgraph_path': ('__pregel_pull', 'superbot'), 'langgraph_checkpoint_ns': 'superbot:4c107950-8f38-35f8-4e6d-93b8245d0812', 'checkpoint_ns': 'superbot:4c107950-8f38-35f8-4e6d-93b8245d0812', 'ls_provider': 'groq', 'ls_model_name': 'llama-3.1-8b-instant', 'ls_model_type': 'chat', 'ls_temperature': 0.7}, 'parent_ids': ['17f38362-6e72-4bf6-9489-a1005a563339', 'cc22c172-e291-4ded-8d86-cab27b551cc5']}\n",
      "{'event': 'on_chat_model_stream', 'data': {'chunk': AIMessageChunk(content='.', additional_kwargs={}, response_metadata={}, id='run--af44d051-9fa0-45f4-8abc-11c4d7d6e76a')}, 'run_id': 'af44d051-9fa0-45f4-8abc-11c4d7d6e76a', 'name': 'ChatGroq', 'tags': ['seq:step:1'], 'metadata': {'thread_id': '6', 'langgraph_step': 1, 'langgraph_node': 'superbot', 'langgraph_triggers': ('branch:to:superbot',), 'langgraph_path': ('__pregel_pull', 'superbot'), 'langgraph_checkpoint_ns': 'superbot:4c107950-8f38-35f8-4e6d-93b8245d0812', 'checkpoint_ns': 'superbot:4c107950-8f38-35f8-4e6d-93b8245d0812', 'ls_provider': 'groq', 'ls_model_name': 'llama-3.1-8b-instant', 'ls_model_type': 'chat', 'ls_temperature': 0.7}, 'parent_ids': ['17f38362-6e72-4bf6-9489-a1005a563339', 'cc22c172-e291-4ded-8d86-cab27b551cc5']}\n",
      "{'event': 'on_chat_model_stream', 'data': {'chunk': AIMessageChunk(content=' Football', additional_kwargs={}, response_metadata={}, id='run--af44d051-9fa0-45f4-8abc-11c4d7d6e76a')}, 'run_id': 'af44d051-9fa0-45f4-8abc-11c4d7d6e76a', 'name': 'ChatGroq', 'tags': ['seq:step:1'], 'metadata': {'thread_id': '6', 'langgraph_step': 1, 'langgraph_node': 'superbot', 'langgraph_triggers': ('branch:to:superbot',), 'langgraph_path': ('__pregel_pull', 'superbot'), 'langgraph_checkpoint_ns': 'superbot:4c107950-8f38-35f8-4e6d-93b8245d0812', 'checkpoint_ns': 'superbot:4c107950-8f38-35f8-4e6d-93b8245d0812', 'ls_provider': 'groq', 'ls_model_name': 'llama-3.1-8b-instant', 'ls_model_type': 'chat', 'ls_temperature': 0.7}, 'parent_ids': ['17f38362-6e72-4bf6-9489-a1005a563339', 'cc22c172-e291-4ded-8d86-cab27b551cc5']}\n",
      "{'event': 'on_chat_model_stream', 'data': {'chunk': AIMessageChunk(content=' is', additional_kwargs={}, response_metadata={}, id='run--af44d051-9fa0-45f4-8abc-11c4d7d6e76a')}, 'run_id': 'af44d051-9fa0-45f4-8abc-11c4d7d6e76a', 'name': 'ChatGroq', 'tags': ['seq:step:1'], 'metadata': {'thread_id': '6', 'langgraph_step': 1, 'langgraph_node': 'superbot', 'langgraph_triggers': ('branch:to:superbot',), 'langgraph_path': ('__pregel_pull', 'superbot'), 'langgraph_checkpoint_ns': 'superbot:4c107950-8f38-35f8-4e6d-93b8245d0812', 'checkpoint_ns': 'superbot:4c107950-8f38-35f8-4e6d-93b8245d0812', 'ls_provider': 'groq', 'ls_model_name': 'llama-3.1-8b-instant', 'ls_model_type': 'chat', 'ls_temperature': 0.7}, 'parent_ids': ['17f38362-6e72-4bf6-9489-a1005a563339', 'cc22c172-e291-4ded-8d86-cab27b551cc5']}\n",
      "{'event': 'on_chat_model_stream', 'data': {'chunk': AIMessageChunk(content=' a', additional_kwargs={}, response_metadata={}, id='run--af44d051-9fa0-45f4-8abc-11c4d7d6e76a')}, 'run_id': 'af44d051-9fa0-45f4-8abc-11c4d7d6e76a', 'name': 'ChatGroq', 'tags': ['seq:step:1'], 'metadata': {'thread_id': '6', 'langgraph_step': 1, 'langgraph_node': 'superbot', 'langgraph_triggers': ('branch:to:superbot',), 'langgraph_path': ('__pregel_pull', 'superbot'), 'langgraph_checkpoint_ns': 'superbot:4c107950-8f38-35f8-4e6d-93b8245d0812', 'checkpoint_ns': 'superbot:4c107950-8f38-35f8-4e6d-93b8245d0812', 'ls_provider': 'groq', 'ls_model_name': 'llama-3.1-8b-instant', 'ls_model_type': 'chat', 'ls_temperature': 0.7}, 'parent_ids': ['17f38362-6e72-4bf6-9489-a1005a563339', 'cc22c172-e291-4ded-8d86-cab27b551cc5']}\n",
      "{'event': 'on_chat_model_stream', 'data': {'chunk': AIMessageChunk(content=' popular', additional_kwargs={}, response_metadata={}, id='run--af44d051-9fa0-45f4-8abc-11c4d7d6e76a')}, 'run_id': 'af44d051-9fa0-45f4-8abc-11c4d7d6e76a', 'name': 'ChatGroq', 'tags': ['seq:step:1'], 'metadata': {'thread_id': '6', 'langgraph_step': 1, 'langgraph_node': 'superbot', 'langgraph_triggers': ('branch:to:superbot',), 'langgraph_path': ('__pregel_pull', 'superbot'), 'langgraph_checkpoint_ns': 'superbot:4c107950-8f38-35f8-4e6d-93b8245d0812', 'checkpoint_ns': 'superbot:4c107950-8f38-35f8-4e6d-93b8245d0812', 'ls_provider': 'groq', 'ls_model_name': 'llama-3.1-8b-instant', 'ls_model_type': 'chat', 'ls_temperature': 0.7}, 'parent_ids': ['17f38362-6e72-4bf6-9489-a1005a563339', 'cc22c172-e291-4ded-8d86-cab27b551cc5']}\n",
      "{'event': 'on_chat_model_stream', 'data': {'chunk': AIMessageChunk(content=' sport', additional_kwargs={}, response_metadata={}, id='run--af44d051-9fa0-45f4-8abc-11c4d7d6e76a')}, 'run_id': 'af44d051-9fa0-45f4-8abc-11c4d7d6e76a', 'name': 'ChatGroq', 'tags': ['seq:step:1'], 'metadata': {'thread_id': '6', 'langgraph_step': 1, 'langgraph_node': 'superbot', 'langgraph_triggers': ('branch:to:superbot',), 'langgraph_path': ('__pregel_pull', 'superbot'), 'langgraph_checkpoint_ns': 'superbot:4c107950-8f38-35f8-4e6d-93b8245d0812', 'checkpoint_ns': 'superbot:4c107950-8f38-35f8-4e6d-93b8245d0812', 'ls_provider': 'groq', 'ls_model_name': 'llama-3.1-8b-instant', 'ls_model_type': 'chat', 'ls_temperature': 0.7}, 'parent_ids': ['17f38362-6e72-4bf6-9489-a1005a563339', 'cc22c172-e291-4ded-8d86-cab27b551cc5']}\n",
      "{'event': 'on_chat_model_stream', 'data': {'chunk': AIMessageChunk(content=' that', additional_kwargs={}, response_metadata={}, id='run--af44d051-9fa0-45f4-8abc-11c4d7d6e76a')}, 'run_id': 'af44d051-9fa0-45f4-8abc-11c4d7d6e76a', 'name': 'ChatGroq', 'tags': ['seq:step:1'], 'metadata': {'thread_id': '6', 'langgraph_step': 1, 'langgraph_node': 'superbot', 'langgraph_triggers': ('branch:to:superbot',), 'langgraph_path': ('__pregel_pull', 'superbot'), 'langgraph_checkpoint_ns': 'superbot:4c107950-8f38-35f8-4e6d-93b8245d0812', 'checkpoint_ns': 'superbot:4c107950-8f38-35f8-4e6d-93b8245d0812', 'ls_provider': 'groq', 'ls_model_name': 'llama-3.1-8b-instant', 'ls_model_type': 'chat', 'ls_temperature': 0.7}, 'parent_ids': ['17f38362-6e72-4bf6-9489-a1005a563339', 'cc22c172-e291-4ded-8d86-cab27b551cc5']}\n",
      "{'event': 'on_chat_model_stream', 'data': {'chunk': AIMessageChunk(content=' many', additional_kwargs={}, response_metadata={}, id='run--af44d051-9fa0-45f4-8abc-11c4d7d6e76a')}, 'run_id': 'af44d051-9fa0-45f4-8abc-11c4d7d6e76a', 'name': 'ChatGroq', 'tags': ['seq:step:1'], 'metadata': {'thread_id': '6', 'langgraph_step': 1, 'langgraph_node': 'superbot', 'langgraph_triggers': ('branch:to:superbot',), 'langgraph_path': ('__pregel_pull', 'superbot'), 'langgraph_checkpoint_ns': 'superbot:4c107950-8f38-35f8-4e6d-93b8245d0812', 'checkpoint_ns': 'superbot:4c107950-8f38-35f8-4e6d-93b8245d0812', 'ls_provider': 'groq', 'ls_model_name': 'llama-3.1-8b-instant', 'ls_model_type': 'chat', 'ls_temperature': 0.7}, 'parent_ids': ['17f38362-6e72-4bf6-9489-a1005a563339', 'cc22c172-e291-4ded-8d86-cab27b551cc5']}\n",
      "{'event': 'on_chat_model_stream', 'data': {'chunk': AIMessageChunk(content=' people', additional_kwargs={}, response_metadata={}, id='run--af44d051-9fa0-45f4-8abc-11c4d7d6e76a')}, 'run_id': 'af44d051-9fa0-45f4-8abc-11c4d7d6e76a', 'name': 'ChatGroq', 'tags': ['seq:step:1'], 'metadata': {'thread_id': '6', 'langgraph_step': 1, 'langgraph_node': 'superbot', 'langgraph_triggers': ('branch:to:superbot',), 'langgraph_path': ('__pregel_pull', 'superbot'), 'langgraph_checkpoint_ns': 'superbot:4c107950-8f38-35f8-4e6d-93b8245d0812', 'checkpoint_ns': 'superbot:4c107950-8f38-35f8-4e6d-93b8245d0812', 'ls_provider': 'groq', 'ls_model_name': 'llama-3.1-8b-instant', 'ls_model_type': 'chat', 'ls_temperature': 0.7}, 'parent_ids': ['17f38362-6e72-4bf6-9489-a1005a563339', 'cc22c172-e291-4ded-8d86-cab27b551cc5']}\n",
      "{'event': 'on_chat_model_stream', 'data': {'chunk': AIMessageChunk(content=' enjoy', additional_kwargs={}, response_metadata={}, id='run--af44d051-9fa0-45f4-8abc-11c4d7d6e76a')}, 'run_id': 'af44d051-9fa0-45f4-8abc-11c4d7d6e76a', 'name': 'ChatGroq', 'tags': ['seq:step:1'], 'metadata': {'thread_id': '6', 'langgraph_step': 1, 'langgraph_node': 'superbot', 'langgraph_triggers': ('branch:to:superbot',), 'langgraph_path': ('__pregel_pull', 'superbot'), 'langgraph_checkpoint_ns': 'superbot:4c107950-8f38-35f8-4e6d-93b8245d0812', 'checkpoint_ns': 'superbot:4c107950-8f38-35f8-4e6d-93b8245d0812', 'ls_provider': 'groq', 'ls_model_name': 'llama-3.1-8b-instant', 'ls_model_type': 'chat', 'ls_temperature': 0.7}, 'parent_ids': ['17f38362-6e72-4bf6-9489-a1005a563339', 'cc22c172-e291-4ded-8d86-cab27b551cc5']}\n",
      "{'event': 'on_chat_model_stream', 'data': {'chunk': AIMessageChunk(content='.', additional_kwargs={}, response_metadata={}, id='run--af44d051-9fa0-45f4-8abc-11c4d7d6e76a')}, 'run_id': 'af44d051-9fa0-45f4-8abc-11c4d7d6e76a', 'name': 'ChatGroq', 'tags': ['seq:step:1'], 'metadata': {'thread_id': '6', 'langgraph_step': 1, 'langgraph_node': 'superbot', 'langgraph_triggers': ('branch:to:superbot',), 'langgraph_path': ('__pregel_pull', 'superbot'), 'langgraph_checkpoint_ns': 'superbot:4c107950-8f38-35f8-4e6d-93b8245d0812', 'checkpoint_ns': 'superbot:4c107950-8f38-35f8-4e6d-93b8245d0812', 'ls_provider': 'groq', 'ls_model_name': 'llama-3.1-8b-instant', 'ls_model_type': 'chat', 'ls_temperature': 0.7}, 'parent_ids': ['17f38362-6e72-4bf6-9489-a1005a563339', 'cc22c172-e291-4ded-8d86-cab27b551cc5']}\n",
      "{'event': 'on_chat_model_stream', 'data': {'chunk': AIMessageChunk(content=' Which', additional_kwargs={}, response_metadata={}, id='run--af44d051-9fa0-45f4-8abc-11c4d7d6e76a')}, 'run_id': 'af44d051-9fa0-45f4-8abc-11c4d7d6e76a', 'name': 'ChatGroq', 'tags': ['seq:step:1'], 'metadata': {'thread_id': '6', 'langgraph_step': 1, 'langgraph_node': 'superbot', 'langgraph_triggers': ('branch:to:superbot',), 'langgraph_path': ('__pregel_pull', 'superbot'), 'langgraph_checkpoint_ns': 'superbot:4c107950-8f38-35f8-4e6d-93b8245d0812', 'checkpoint_ns': 'superbot:4c107950-8f38-35f8-4e6d-93b8245d0812', 'ls_provider': 'groq', 'ls_model_name': 'llama-3.1-8b-instant', 'ls_model_type': 'chat', 'ls_temperature': 0.7}, 'parent_ids': ['17f38362-6e72-4bf6-9489-a1005a563339', 'cc22c172-e291-4ded-8d86-cab27b551cc5']}\n",
      "{'event': 'on_chat_model_stream', 'data': {'chunk': AIMessageChunk(content=' team', additional_kwargs={}, response_metadata={}, id='run--af44d051-9fa0-45f4-8abc-11c4d7d6e76a')}, 'run_id': 'af44d051-9fa0-45f4-8abc-11c4d7d6e76a', 'name': 'ChatGroq', 'tags': ['seq:step:1'], 'metadata': {'thread_id': '6', 'langgraph_step': 1, 'langgraph_node': 'superbot', 'langgraph_triggers': ('branch:to:superbot',), 'langgraph_path': ('__pregel_pull', 'superbot'), 'langgraph_checkpoint_ns': 'superbot:4c107950-8f38-35f8-4e6d-93b8245d0812', 'checkpoint_ns': 'superbot:4c107950-8f38-35f8-4e6d-93b8245d0812', 'ls_provider': 'groq', 'ls_model_name': 'llama-3.1-8b-instant', 'ls_model_type': 'chat', 'ls_temperature': 0.7}, 'parent_ids': ['17f38362-6e72-4bf6-9489-a1005a563339', 'cc22c172-e291-4ded-8d86-cab27b551cc5']}\n",
      "{'event': 'on_chat_model_stream', 'data': {'chunk': AIMessageChunk(content=' do', additional_kwargs={}, response_metadata={}, id='run--af44d051-9fa0-45f4-8abc-11c4d7d6e76a')}, 'run_id': 'af44d051-9fa0-45f4-8abc-11c4d7d6e76a', 'name': 'ChatGroq', 'tags': ['seq:step:1'], 'metadata': {'thread_id': '6', 'langgraph_step': 1, 'langgraph_node': 'superbot', 'langgraph_triggers': ('branch:to:superbot',), 'langgraph_path': ('__pregel_pull', 'superbot'), 'langgraph_checkpoint_ns': 'superbot:4c107950-8f38-35f8-4e6d-93b8245d0812', 'checkpoint_ns': 'superbot:4c107950-8f38-35f8-4e6d-93b8245d0812', 'ls_provider': 'groq', 'ls_model_name': 'llama-3.1-8b-instant', 'ls_model_type': 'chat', 'ls_temperature': 0.7}, 'parent_ids': ['17f38362-6e72-4bf6-9489-a1005a563339', 'cc22c172-e291-4ded-8d86-cab27b551cc5']}\n",
      "{'event': 'on_chat_model_stream', 'data': {'chunk': AIMessageChunk(content=' you', additional_kwargs={}, response_metadata={}, id='run--af44d051-9fa0-45f4-8abc-11c4d7d6e76a')}, 'run_id': 'af44d051-9fa0-45f4-8abc-11c4d7d6e76a', 'name': 'ChatGroq', 'tags': ['seq:step:1'], 'metadata': {'thread_id': '6', 'langgraph_step': 1, 'langgraph_node': 'superbot', 'langgraph_triggers': ('branch:to:superbot',), 'langgraph_path': ('__pregel_pull', 'superbot'), 'langgraph_checkpoint_ns': 'superbot:4c107950-8f38-35f8-4e6d-93b8245d0812', 'checkpoint_ns': 'superbot:4c107950-8f38-35f8-4e6d-93b8245d0812', 'ls_provider': 'groq', 'ls_model_name': 'llama-3.1-8b-instant', 'ls_model_type': 'chat', 'ls_temperature': 0.7}, 'parent_ids': ['17f38362-6e72-4bf6-9489-a1005a563339', 'cc22c172-e291-4ded-8d86-cab27b551cc5']}\n",
      "{'event': 'on_chat_model_stream', 'data': {'chunk': AIMessageChunk(content=' support', additional_kwargs={}, response_metadata={}, id='run--af44d051-9fa0-45f4-8abc-11c4d7d6e76a')}, 'run_id': 'af44d051-9fa0-45f4-8abc-11c4d7d6e76a', 'name': 'ChatGroq', 'tags': ['seq:step:1'], 'metadata': {'thread_id': '6', 'langgraph_step': 1, 'langgraph_node': 'superbot', 'langgraph_triggers': ('branch:to:superbot',), 'langgraph_path': ('__pregel_pull', 'superbot'), 'langgraph_checkpoint_ns': 'superbot:4c107950-8f38-35f8-4e6d-93b8245d0812', 'checkpoint_ns': 'superbot:4c107950-8f38-35f8-4e6d-93b8245d0812', 'ls_provider': 'groq', 'ls_model_name': 'llama-3.1-8b-instant', 'ls_model_type': 'chat', 'ls_temperature': 0.7}, 'parent_ids': ['17f38362-6e72-4bf6-9489-a1005a563339', 'cc22c172-e291-4ded-8d86-cab27b551cc5']}\n",
      "{'event': 'on_chat_model_stream', 'data': {'chunk': AIMessageChunk(content=',', additional_kwargs={}, response_metadata={}, id='run--af44d051-9fa0-45f4-8abc-11c4d7d6e76a')}, 'run_id': 'af44d051-9fa0-45f4-8abc-11c4d7d6e76a', 'name': 'ChatGroq', 'tags': ['seq:step:1'], 'metadata': {'thread_id': '6', 'langgraph_step': 1, 'langgraph_node': 'superbot', 'langgraph_triggers': ('branch:to:superbot',), 'langgraph_path': ('__pregel_pull', 'superbot'), 'langgraph_checkpoint_ns': 'superbot:4c107950-8f38-35f8-4e6d-93b8245d0812', 'checkpoint_ns': 'superbot:4c107950-8f38-35f8-4e6d-93b8245d0812', 'ls_provider': 'groq', 'ls_model_name': 'llama-3.1-8b-instant', 'ls_model_type': 'chat', 'ls_temperature': 0.7}, 'parent_ids': ['17f38362-6e72-4bf6-9489-a1005a563339', 'cc22c172-e291-4ded-8d86-cab27b551cc5']}\n",
      "{'event': 'on_chat_model_stream', 'data': {'chunk': AIMessageChunk(content=' and', additional_kwargs={}, response_metadata={}, id='run--af44d051-9fa0-45f4-8abc-11c4d7d6e76a')}, 'run_id': 'af44d051-9fa0-45f4-8abc-11c4d7d6e76a', 'name': 'ChatGroq', 'tags': ['seq:step:1'], 'metadata': {'thread_id': '6', 'langgraph_step': 1, 'langgraph_node': 'superbot', 'langgraph_triggers': ('branch:to:superbot',), 'langgraph_path': ('__pregel_pull', 'superbot'), 'langgraph_checkpoint_ns': 'superbot:4c107950-8f38-35f8-4e6d-93b8245d0812', 'checkpoint_ns': 'superbot:4c107950-8f38-35f8-4e6d-93b8245d0812', 'ls_provider': 'groq', 'ls_model_name': 'llama-3.1-8b-instant', 'ls_model_type': 'chat', 'ls_temperature': 0.7}, 'parent_ids': ['17f38362-6e72-4bf6-9489-a1005a563339', 'cc22c172-e291-4ded-8d86-cab27b551cc5']}\n",
      "{'event': 'on_chat_model_stream', 'data': {'chunk': AIMessageChunk(content=' do', additional_kwargs={}, response_metadata={}, id='run--af44d051-9fa0-45f4-8abc-11c4d7d6e76a')}, 'run_id': 'af44d051-9fa0-45f4-8abc-11c4d7d6e76a', 'name': 'ChatGroq', 'tags': ['seq:step:1'], 'metadata': {'thread_id': '6', 'langgraph_step': 1, 'langgraph_node': 'superbot', 'langgraph_triggers': ('branch:to:superbot',), 'langgraph_path': ('__pregel_pull', 'superbot'), 'langgraph_checkpoint_ns': 'superbot:4c107950-8f38-35f8-4e6d-93b8245d0812', 'checkpoint_ns': 'superbot:4c107950-8f38-35f8-4e6d-93b8245d0812', 'ls_provider': 'groq', 'ls_model_name': 'llama-3.1-8b-instant', 'ls_model_type': 'chat', 'ls_temperature': 0.7}, 'parent_ids': ['17f38362-6e72-4bf6-9489-a1005a563339', 'cc22c172-e291-4ded-8d86-cab27b551cc5']}\n",
      "{'event': 'on_chat_model_stream', 'data': {'chunk': AIMessageChunk(content=' you', additional_kwargs={}, response_metadata={}, id='run--af44d051-9fa0-45f4-8abc-11c4d7d6e76a')}, 'run_id': 'af44d051-9fa0-45f4-8abc-11c4d7d6e76a', 'name': 'ChatGroq', 'tags': ['seq:step:1'], 'metadata': {'thread_id': '6', 'langgraph_step': 1, 'langgraph_node': 'superbot', 'langgraph_triggers': ('branch:to:superbot',), 'langgraph_path': ('__pregel_pull', 'superbot'), 'langgraph_checkpoint_ns': 'superbot:4c107950-8f38-35f8-4e6d-93b8245d0812', 'checkpoint_ns': 'superbot:4c107950-8f38-35f8-4e6d-93b8245d0812', 'ls_provider': 'groq', 'ls_model_name': 'llama-3.1-8b-instant', 'ls_model_type': 'chat', 'ls_temperature': 0.7}, 'parent_ids': ['17f38362-6e72-4bf6-9489-a1005a563339', 'cc22c172-e291-4ded-8d86-cab27b551cc5']}\n",
      "{'event': 'on_chat_model_stream', 'data': {'chunk': AIMessageChunk(content=' have', additional_kwargs={}, response_metadata={}, id='run--af44d051-9fa0-45f4-8abc-11c4d7d6e76a')}, 'run_id': 'af44d051-9fa0-45f4-8abc-11c4d7d6e76a', 'name': 'ChatGroq', 'tags': ['seq:step:1'], 'metadata': {'thread_id': '6', 'langgraph_step': 1, 'langgraph_node': 'superbot', 'langgraph_triggers': ('branch:to:superbot',), 'langgraph_path': ('__pregel_pull', 'superbot'), 'langgraph_checkpoint_ns': 'superbot:4c107950-8f38-35f8-4e6d-93b8245d0812', 'checkpoint_ns': 'superbot:4c107950-8f38-35f8-4e6d-93b8245d0812', 'ls_provider': 'groq', 'ls_model_name': 'llama-3.1-8b-instant', 'ls_model_type': 'chat', 'ls_temperature': 0.7}, 'parent_ids': ['17f38362-6e72-4bf6-9489-a1005a563339', 'cc22c172-e291-4ded-8d86-cab27b551cc5']}\n",
      "{'event': 'on_chat_model_stream', 'data': {'chunk': AIMessageChunk(content=' a', additional_kwargs={}, response_metadata={}, id='run--af44d051-9fa0-45f4-8abc-11c4d7d6e76a')}, 'run_id': 'af44d051-9fa0-45f4-8abc-11c4d7d6e76a', 'name': 'ChatGroq', 'tags': ['seq:step:1'], 'metadata': {'thread_id': '6', 'langgraph_step': 1, 'langgraph_node': 'superbot', 'langgraph_triggers': ('branch:to:superbot',), 'langgraph_path': ('__pregel_pull', 'superbot'), 'langgraph_checkpoint_ns': 'superbot:4c107950-8f38-35f8-4e6d-93b8245d0812', 'checkpoint_ns': 'superbot:4c107950-8f38-35f8-4e6d-93b8245d0812', 'ls_provider': 'groq', 'ls_model_name': 'llama-3.1-8b-instant', 'ls_model_type': 'chat', 'ls_temperature': 0.7}, 'parent_ids': ['17f38362-6e72-4bf6-9489-a1005a563339', 'cc22c172-e291-4ded-8d86-cab27b551cc5']}\n",
      "{'event': 'on_chat_model_stream', 'data': {'chunk': AIMessageChunk(content=' favorite', additional_kwargs={}, response_metadata={}, id='run--af44d051-9fa0-45f4-8abc-11c4d7d6e76a')}, 'run_id': 'af44d051-9fa0-45f4-8abc-11c4d7d6e76a', 'name': 'ChatGroq', 'tags': ['seq:step:1'], 'metadata': {'thread_id': '6', 'langgraph_step': 1, 'langgraph_node': 'superbot', 'langgraph_triggers': ('branch:to:superbot',), 'langgraph_path': ('__pregel_pull', 'superbot'), 'langgraph_checkpoint_ns': 'superbot:4c107950-8f38-35f8-4e6d-93b8245d0812', 'checkpoint_ns': 'superbot:4c107950-8f38-35f8-4e6d-93b8245d0812', 'ls_provider': 'groq', 'ls_model_name': 'llama-3.1-8b-instant', 'ls_model_type': 'chat', 'ls_temperature': 0.7}, 'parent_ids': ['17f38362-6e72-4bf6-9489-a1005a563339', 'cc22c172-e291-4ded-8d86-cab27b551cc5']}\n",
      "{'event': 'on_chat_model_stream', 'data': {'chunk': AIMessageChunk(content=' player', additional_kwargs={}, response_metadata={}, id='run--af44d051-9fa0-45f4-8abc-11c4d7d6e76a')}, 'run_id': 'af44d051-9fa0-45f4-8abc-11c4d7d6e76a', 'name': 'ChatGroq', 'tags': ['seq:step:1'], 'metadata': {'thread_id': '6', 'langgraph_step': 1, 'langgraph_node': 'superbot', 'langgraph_triggers': ('branch:to:superbot',), 'langgraph_path': ('__pregel_pull', 'superbot'), 'langgraph_checkpoint_ns': 'superbot:4c107950-8f38-35f8-4e6d-93b8245d0812', 'checkpoint_ns': 'superbot:4c107950-8f38-35f8-4e6d-93b8245d0812', 'ls_provider': 'groq', 'ls_model_name': 'llama-3.1-8b-instant', 'ls_model_type': 'chat', 'ls_temperature': 0.7}, 'parent_ids': ['17f38362-6e72-4bf6-9489-a1005a563339', 'cc22c172-e291-4ded-8d86-cab27b551cc5']}\n",
      "{'event': 'on_chat_model_stream', 'data': {'chunk': AIMessageChunk(content='?', additional_kwargs={}, response_metadata={}, id='run--af44d051-9fa0-45f4-8abc-11c4d7d6e76a')}, 'run_id': 'af44d051-9fa0-45f4-8abc-11c4d7d6e76a', 'name': 'ChatGroq', 'tags': ['seq:step:1'], 'metadata': {'thread_id': '6', 'langgraph_step': 1, 'langgraph_node': 'superbot', 'langgraph_triggers': ('branch:to:superbot',), 'langgraph_path': ('__pregel_pull', 'superbot'), 'langgraph_checkpoint_ns': 'superbot:4c107950-8f38-35f8-4e6d-93b8245d0812', 'checkpoint_ns': 'superbot:4c107950-8f38-35f8-4e6d-93b8245d0812', 'ls_provider': 'groq', 'ls_model_name': 'llama-3.1-8b-instant', 'ls_model_type': 'chat', 'ls_temperature': 0.7}, 'parent_ids': ['17f38362-6e72-4bf6-9489-a1005a563339', 'cc22c172-e291-4ded-8d86-cab27b551cc5']}\n",
      "{'event': 'on_chat_model_stream', 'data': {'chunk': AIMessageChunk(content='', additional_kwargs={}, response_metadata={'finish_reason': 'stop', 'model_name': 'llama-3.1-8b-instant', 'system_fingerprint': 'fp_8a13dfab2b', 'service_tier': 'on_demand'}, id='run--af44d051-9fa0-45f4-8abc-11c4d7d6e76a', usage_metadata={'input_tokens': 42, 'output_tokens': 36, 'total_tokens': 78})}, 'run_id': 'af44d051-9fa0-45f4-8abc-11c4d7d6e76a', 'name': 'ChatGroq', 'tags': ['seq:step:1'], 'metadata': {'thread_id': '6', 'langgraph_step': 1, 'langgraph_node': 'superbot', 'langgraph_triggers': ('branch:to:superbot',), 'langgraph_path': ('__pregel_pull', 'superbot'), 'langgraph_checkpoint_ns': 'superbot:4c107950-8f38-35f8-4e6d-93b8245d0812', 'checkpoint_ns': 'superbot:4c107950-8f38-35f8-4e6d-93b8245d0812', 'ls_provider': 'groq', 'ls_model_name': 'llama-3.1-8b-instant', 'ls_model_type': 'chat', 'ls_temperature': 0.7}, 'parent_ids': ['17f38362-6e72-4bf6-9489-a1005a563339', 'cc22c172-e291-4ded-8d86-cab27b551cc5']}\n",
      "{'event': 'on_chat_model_end', 'data': {'output': AIMessage(content=\"Hello Tutu, it's great to meet you. Football is a popular sport that many people enjoy. Which team do you support, and do you have a favorite player?\", additional_kwargs={}, response_metadata={'finish_reason': 'stop', 'model_name': 'llama-3.1-8b-instant', 'system_fingerprint': 'fp_8a13dfab2b', 'service_tier': 'on_demand'}, id='run--af44d051-9fa0-45f4-8abc-11c4d7d6e76a', usage_metadata={'input_tokens': 42, 'output_tokens': 36, 'total_tokens': 78}), 'input': {'messages': [[HumanMessage(content='im tutu and i like football', additional_kwargs={}, response_metadata={}, id='0b0bc265-ac97-4e30-9552-d1096f70f40e')]]}}, 'run_id': 'af44d051-9fa0-45f4-8abc-11c4d7d6e76a', 'name': 'ChatGroq', 'tags': ['seq:step:1'], 'metadata': {'thread_id': '6', 'langgraph_step': 1, 'langgraph_node': 'superbot', 'langgraph_triggers': ('branch:to:superbot',), 'langgraph_path': ('__pregel_pull', 'superbot'), 'langgraph_checkpoint_ns': 'superbot:4c107950-8f38-35f8-4e6d-93b8245d0812', 'checkpoint_ns': 'superbot:4c107950-8f38-35f8-4e6d-93b8245d0812', 'ls_provider': 'groq', 'ls_model_name': 'llama-3.1-8b-instant', 'ls_model_type': 'chat', 'ls_temperature': 0.7}, 'parent_ids': ['17f38362-6e72-4bf6-9489-a1005a563339', 'cc22c172-e291-4ded-8d86-cab27b551cc5']}\n",
      "{'event': 'on_chain_stream', 'run_id': 'cc22c172-e291-4ded-8d86-cab27b551cc5', 'name': 'superbot', 'tags': ['graph:step:1'], 'metadata': {'thread_id': '6', 'langgraph_step': 1, 'langgraph_node': 'superbot', 'langgraph_triggers': ('branch:to:superbot',), 'langgraph_path': ('__pregel_pull', 'superbot'), 'langgraph_checkpoint_ns': 'superbot:4c107950-8f38-35f8-4e6d-93b8245d0812'}, 'data': {'chunk': {'messages': [AIMessage(content=\"Hello Tutu, it's great to meet you. Football is a popular sport that many people enjoy. Which team do you support, and do you have a favorite player?\", additional_kwargs={}, response_metadata={'finish_reason': 'stop', 'model_name': 'llama-3.1-8b-instant', 'system_fingerprint': 'fp_8a13dfab2b', 'service_tier': 'on_demand'}, id='run--af44d051-9fa0-45f4-8abc-11c4d7d6e76a', usage_metadata={'input_tokens': 42, 'output_tokens': 36, 'total_tokens': 78})]}}, 'parent_ids': ['17f38362-6e72-4bf6-9489-a1005a563339']}\n",
      "{'event': 'on_chain_end', 'data': {'output': {'messages': [AIMessage(content=\"Hello Tutu, it's great to meet you. Football is a popular sport that many people enjoy. Which team do you support, and do you have a favorite player?\", additional_kwargs={}, response_metadata={'finish_reason': 'stop', 'model_name': 'llama-3.1-8b-instant', 'system_fingerprint': 'fp_8a13dfab2b', 'service_tier': 'on_demand'}, id='run--af44d051-9fa0-45f4-8abc-11c4d7d6e76a', usage_metadata={'input_tokens': 42, 'output_tokens': 36, 'total_tokens': 78})]}, 'input': {'messages': [HumanMessage(content='im tutu and i like football', additional_kwargs={}, response_metadata={}, id='0b0bc265-ac97-4e30-9552-d1096f70f40e')]}}, 'run_id': 'cc22c172-e291-4ded-8d86-cab27b551cc5', 'name': 'superbot', 'tags': ['graph:step:1'], 'metadata': {'thread_id': '6', 'langgraph_step': 1, 'langgraph_node': 'superbot', 'langgraph_triggers': ('branch:to:superbot',), 'langgraph_path': ('__pregel_pull', 'superbot'), 'langgraph_checkpoint_ns': 'superbot:4c107950-8f38-35f8-4e6d-93b8245d0812'}, 'parent_ids': ['17f38362-6e72-4bf6-9489-a1005a563339']}\n",
      "{'event': 'on_chain_stream', 'run_id': '17f38362-6e72-4bf6-9489-a1005a563339', 'name': 'LangGraph', 'tags': [], 'metadata': {'thread_id': '6'}, 'data': {'chunk': {'superbot': {'messages': [AIMessage(content=\"Hello Tutu, it's great to meet you. Football is a popular sport that many people enjoy. Which team do you support, and do you have a favorite player?\", additional_kwargs={}, response_metadata={'finish_reason': 'stop', 'model_name': 'llama-3.1-8b-instant', 'system_fingerprint': 'fp_8a13dfab2b', 'service_tier': 'on_demand'}, id='run--af44d051-9fa0-45f4-8abc-11c4d7d6e76a', usage_metadata={'input_tokens': 42, 'output_tokens': 36, 'total_tokens': 78})]}}}, 'parent_ids': []}\n",
      "{'event': 'on_chain_end', 'data': {'output': {'messages': [HumanMessage(content='im tutu and i like football', additional_kwargs={}, response_metadata={}, id='0b0bc265-ac97-4e30-9552-d1096f70f40e'), AIMessage(content=\"Hello Tutu, it's great to meet you. Football is a popular sport that many people enjoy. Which team do you support, and do you have a favorite player?\", additional_kwargs={}, response_metadata={'finish_reason': 'stop', 'model_name': 'llama-3.1-8b-instant', 'system_fingerprint': 'fp_8a13dfab2b', 'service_tier': 'on_demand'}, id='run--af44d051-9fa0-45f4-8abc-11c4d7d6e76a', usage_metadata={'input_tokens': 42, 'output_tokens': 36, 'total_tokens': 78})]}}, 'run_id': '17f38362-6e72-4bf6-9489-a1005a563339', 'name': 'LangGraph', 'tags': [], 'metadata': {'thread_id': '6'}, 'parent_ids': []}\n"
     ]
    }
   ],
   "source": [
    "config = {\"configurable\":{\"thread_id\":\"6\"}}\n",
    "\n",
    "async for chunk in graph.astream_events({\"messages\":\"im tutu and i like football\"}, config, version=\"v2\"):\n",
    "    print(chunk)"
   ]
  }
 ],
 "metadata": {
  "kernelspec": {
   "display_name": "agentic_tut",
   "language": "python",
   "name": "python3"
  },
  "language_info": {
   "codemirror_mode": {
    "name": "ipython",
    "version": 3
   },
   "file_extension": ".py",
   "mimetype": "text/x-python",
   "name": "python",
   "nbconvert_exporter": "python",
   "pygments_lexer": "ipython3",
   "version": "3.12.3"
  }
 },
 "nbformat": 4,
 "nbformat_minor": 2
}
