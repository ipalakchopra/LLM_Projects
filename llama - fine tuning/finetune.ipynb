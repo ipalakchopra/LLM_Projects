{
 "cells": [
  {
   "cell_type": "code",
   "execution_count": 9,
   "metadata": {},
   "outputs": [
    {
     "name": "stdout",
     "output_type": "stream",
     "text": [
      "Requirement already satisfied: accelerate==0.21.0 in /home/ppk/Documents/env_test/lib/python3.11/site-packages (0.21.0)\n",
      "Requirement already satisfied: peft==0.4.0 in /home/ppk/Documents/env_test/lib/python3.11/site-packages (0.4.0)\n",
      "Requirement already satisfied: bitsandbytes==0.40.2 in /home/ppk/Documents/env_test/lib/python3.11/site-packages (0.40.2)\n",
      "Requirement already satisfied: transformers==4.31.0 in /home/ppk/Documents/env_test/lib/python3.11/site-packages (4.31.0)\n",
      "Requirement already satisfied: trl==0.4.7 in /home/ppk/Documents/env_test/lib/python3.11/site-packages (0.4.7)\n",
      "Requirement already satisfied: numpy>=1.17 in /home/ppk/Documents/env_test/lib/python3.11/site-packages (from accelerate==0.21.0) (2.2.3)\n",
      "Requirement already satisfied: packaging>=20.0 in /home/ppk/Documents/env_test/lib/python3.11/site-packages (from accelerate==0.21.0) (24.2)\n",
      "Requirement already satisfied: psutil in /home/ppk/Documents/env_test/lib/python3.11/site-packages (from accelerate==0.21.0) (7.0.0)\n",
      "Requirement already satisfied: pyyaml in /home/ppk/Documents/env_test/lib/python3.11/site-packages (from accelerate==0.21.0) (6.0.2)\n",
      "Requirement already satisfied: torch>=1.10.0 in /home/ppk/Documents/env_test/lib/python3.11/site-packages (from accelerate==0.21.0) (2.6.0)\n",
      "Requirement already satisfied: safetensors in /home/ppk/Documents/env_test/lib/python3.11/site-packages (from peft==0.4.0) (0.5.3)\n",
      "Requirement already satisfied: filelock in /home/ppk/Documents/env_test/lib/python3.11/site-packages (from transformers==4.31.0) (3.18.0)\n",
      "Requirement already satisfied: huggingface-hub<1.0,>=0.14.1 in /home/ppk/Documents/env_test/lib/python3.11/site-packages (from transformers==4.31.0) (0.29.3)\n",
      "Requirement already satisfied: regex!=2019.12.17 in /home/ppk/Documents/env_test/lib/python3.11/site-packages (from transformers==4.31.0) (2024.11.6)\n",
      "Requirement already satisfied: requests in /home/ppk/Documents/env_test/lib/python3.11/site-packages (from transformers==4.31.0) (2.32.3)\n",
      "Requirement already satisfied: tokenizers!=0.11.3,<0.14,>=0.11.1 in /home/ppk/Documents/env_test/lib/python3.11/site-packages (from transformers==4.31.0) (0.13.3)\n",
      "Requirement already satisfied: tqdm>=4.27 in /home/ppk/Documents/env_test/lib/python3.11/site-packages (from transformers==4.31.0) (4.67.1)\n",
      "Requirement already satisfied: datasets in /home/ppk/Documents/env_test/lib/python3.11/site-packages (from trl==0.4.7) (3.4.0)\n",
      "Requirement already satisfied: fsspec>=2023.5.0 in /home/ppk/Documents/env_test/lib/python3.11/site-packages (from huggingface-hub<1.0,>=0.14.1->transformers==4.31.0) (2024.12.0)\n",
      "Requirement already satisfied: typing-extensions>=3.7.4.3 in /home/ppk/Documents/env_test/lib/python3.11/site-packages (from huggingface-hub<1.0,>=0.14.1->transformers==4.31.0) (4.12.2)\n",
      "Requirement already satisfied: networkx in /home/ppk/Documents/env_test/lib/python3.11/site-packages (from torch>=1.10.0->accelerate==0.21.0) (3.4.2)\n",
      "Requirement already satisfied: jinja2 in /home/ppk/Documents/env_test/lib/python3.11/site-packages (from torch>=1.10.0->accelerate==0.21.0) (3.1.6)\n",
      "Requirement already satisfied: nvidia-cuda-nvrtc-cu12==12.4.127 in /home/ppk/Documents/env_test/lib/python3.11/site-packages (from torch>=1.10.0->accelerate==0.21.0) (12.4.127)\n",
      "Requirement already satisfied: nvidia-cuda-runtime-cu12==12.4.127 in /home/ppk/Documents/env_test/lib/python3.11/site-packages (from torch>=1.10.0->accelerate==0.21.0) (12.4.127)\n",
      "Requirement already satisfied: nvidia-cuda-cupti-cu12==12.4.127 in /home/ppk/Documents/env_test/lib/python3.11/site-packages (from torch>=1.10.0->accelerate==0.21.0) (12.4.127)\n",
      "Requirement already satisfied: nvidia-cudnn-cu12==9.1.0.70 in /home/ppk/Documents/env_test/lib/python3.11/site-packages (from torch>=1.10.0->accelerate==0.21.0) (9.1.0.70)\n",
      "Requirement already satisfied: nvidia-cublas-cu12==12.4.5.8 in /home/ppk/Documents/env_test/lib/python3.11/site-packages (from torch>=1.10.0->accelerate==0.21.0) (12.4.5.8)\n",
      "Requirement already satisfied: nvidia-cufft-cu12==11.2.1.3 in /home/ppk/Documents/env_test/lib/python3.11/site-packages (from torch>=1.10.0->accelerate==0.21.0) (11.2.1.3)\n",
      "Requirement already satisfied: nvidia-curand-cu12==10.3.5.147 in /home/ppk/Documents/env_test/lib/python3.11/site-packages (from torch>=1.10.0->accelerate==0.21.0) (10.3.5.147)\n",
      "Requirement already satisfied: nvidia-cusolver-cu12==11.6.1.9 in /home/ppk/Documents/env_test/lib/python3.11/site-packages (from torch>=1.10.0->accelerate==0.21.0) (11.6.1.9)\n",
      "Requirement already satisfied: nvidia-cusparse-cu12==12.3.1.170 in /home/ppk/Documents/env_test/lib/python3.11/site-packages (from torch>=1.10.0->accelerate==0.21.0) (12.3.1.170)\n",
      "Requirement already satisfied: nvidia-cusparselt-cu12==0.6.2 in /home/ppk/Documents/env_test/lib/python3.11/site-packages (from torch>=1.10.0->accelerate==0.21.0) (0.6.2)\n",
      "Requirement already satisfied: nvidia-nccl-cu12==2.21.5 in /home/ppk/Documents/env_test/lib/python3.11/site-packages (from torch>=1.10.0->accelerate==0.21.0) (2.21.5)\n",
      "Requirement already satisfied: nvidia-nvtx-cu12==12.4.127 in /home/ppk/Documents/env_test/lib/python3.11/site-packages (from torch>=1.10.0->accelerate==0.21.0) (12.4.127)\n",
      "Requirement already satisfied: nvidia-nvjitlink-cu12==12.4.127 in /home/ppk/Documents/env_test/lib/python3.11/site-packages (from torch>=1.10.0->accelerate==0.21.0) (12.4.127)\n",
      "Requirement already satisfied: triton==3.2.0 in /home/ppk/Documents/env_test/lib/python3.11/site-packages (from torch>=1.10.0->accelerate==0.21.0) (3.2.0)\n",
      "Requirement already satisfied: sympy==1.13.1 in /home/ppk/Documents/env_test/lib/python3.11/site-packages (from torch>=1.10.0->accelerate==0.21.0) (1.13.1)\n",
      "Requirement already satisfied: mpmath<1.4,>=1.1.0 in /home/ppk/Documents/env_test/lib/python3.11/site-packages (from sympy==1.13.1->torch>=1.10.0->accelerate==0.21.0) (1.3.0)\n",
      "Requirement already satisfied: pyarrow>=15.0.0 in /home/ppk/Documents/env_test/lib/python3.11/site-packages (from datasets->trl==0.4.7) (19.0.1)\n",
      "Requirement already satisfied: dill<0.3.9,>=0.3.0 in /home/ppk/Documents/env_test/lib/python3.11/site-packages (from datasets->trl==0.4.7) (0.3.8)\n",
      "Requirement already satisfied: pandas in /home/ppk/Documents/env_test/lib/python3.11/site-packages (from datasets->trl==0.4.7) (2.2.3)\n",
      "Requirement already satisfied: xxhash in /home/ppk/Documents/env_test/lib/python3.11/site-packages (from datasets->trl==0.4.7) (3.5.0)\n",
      "Requirement already satisfied: multiprocess<0.70.17 in /home/ppk/Documents/env_test/lib/python3.11/site-packages (from datasets->trl==0.4.7) (0.70.16)\n",
      "Requirement already satisfied: aiohttp in /home/ppk/Documents/env_test/lib/python3.11/site-packages (from datasets->trl==0.4.7) (3.11.13)\n",
      "Requirement already satisfied: charset-normalizer<4,>=2 in /home/ppk/Documents/env_test/lib/python3.11/site-packages (from requests->transformers==4.31.0) (3.4.1)\n",
      "Requirement already satisfied: idna<4,>=2.5 in /home/ppk/Documents/env_test/lib/python3.11/site-packages (from requests->transformers==4.31.0) (3.10)\n",
      "Requirement already satisfied: urllib3<3,>=1.21.1 in /home/ppk/Documents/env_test/lib/python3.11/site-packages (from requests->transformers==4.31.0) (2.3.0)\n",
      "Requirement already satisfied: certifi>=2017.4.17 in /home/ppk/Documents/env_test/lib/python3.11/site-packages (from requests->transformers==4.31.0) (2025.1.31)\n",
      "Requirement already satisfied: aiohappyeyeballs>=2.3.0 in /home/ppk/Documents/env_test/lib/python3.11/site-packages (from aiohttp->datasets->trl==0.4.7) (2.6.1)\n",
      "Requirement already satisfied: aiosignal>=1.1.2 in /home/ppk/Documents/env_test/lib/python3.11/site-packages (from aiohttp->datasets->trl==0.4.7) (1.3.2)\n",
      "Requirement already satisfied: attrs>=17.3.0 in /home/ppk/Documents/env_test/lib/python3.11/site-packages (from aiohttp->datasets->trl==0.4.7) (25.3.0)\n",
      "Requirement already satisfied: frozenlist>=1.1.1 in /home/ppk/Documents/env_test/lib/python3.11/site-packages (from aiohttp->datasets->trl==0.4.7) (1.5.0)\n",
      "Requirement already satisfied: multidict<7.0,>=4.5 in /home/ppk/Documents/env_test/lib/python3.11/site-packages (from aiohttp->datasets->trl==0.4.7) (6.1.0)\n",
      "Requirement already satisfied: propcache>=0.2.0 in /home/ppk/Documents/env_test/lib/python3.11/site-packages (from aiohttp->datasets->trl==0.4.7) (0.3.0)\n",
      "Requirement already satisfied: yarl<2.0,>=1.17.0 in /home/ppk/Documents/env_test/lib/python3.11/site-packages (from aiohttp->datasets->trl==0.4.7) (1.18.3)\n",
      "Requirement already satisfied: MarkupSafe>=2.0 in /home/ppk/Documents/env_test/lib/python3.11/site-packages (from jinja2->torch>=1.10.0->accelerate==0.21.0) (3.0.2)\n",
      "Requirement already satisfied: python-dateutil>=2.8.2 in /home/ppk/Documents/env_test/lib/python3.11/site-packages (from pandas->datasets->trl==0.4.7) (2.9.0.post0)\n",
      "Requirement already satisfied: pytz>=2020.1 in /home/ppk/Documents/env_test/lib/python3.11/site-packages (from pandas->datasets->trl==0.4.7) (2025.1)\n",
      "Requirement already satisfied: tzdata>=2022.7 in /home/ppk/Documents/env_test/lib/python3.11/site-packages (from pandas->datasets->trl==0.4.7) (2025.1)\n",
      "Requirement already satisfied: six>=1.5 in /home/ppk/Documents/env_test/lib/python3.11/site-packages (from python-dateutil>=2.8.2->pandas->datasets->trl==0.4.7) (1.17.0)\n",
      "\n",
      "\u001b[1m[\u001b[0m\u001b[34;49mnotice\u001b[0m\u001b[1;39;49m]\u001b[0m\u001b[39;49m A new release of pip is available: \u001b[0m\u001b[31;49m24.0\u001b[0m\u001b[39;49m -> \u001b[0m\u001b[32;49m25.0.1\u001b[0m\n",
      "\u001b[1m[\u001b[0m\u001b[34;49mnotice\u001b[0m\u001b[1;39;49m]\u001b[0m\u001b[39;49m To update, run: \u001b[0m\u001b[32;49mpip install --upgrade pip\u001b[0m\n"
     ]
    }
   ],
   "source": [
    "!pip install accelerate==0.21.0 peft==0.4.0 bitsandbytes==0.40.2 transformers==4.31.0 trl==0.4.7"
   ]
  },
  {
   "cell_type": "code",
   "execution_count": 10,
   "metadata": {},
   "outputs": [
    {
     "ename": "RuntimeError",
     "evalue": "Failed to import transformers.training_args because of the following error (look up to see its traceback):\nNo module named 'triton.ops'",
     "output_type": "error",
     "traceback": [
      "\u001b[31m---------------------------------------------------------------------------\u001b[39m",
      "\u001b[31mModuleNotFoundError\u001b[39m                       Traceback (most recent call last)",
      "\u001b[36mFile \u001b[39m\u001b[32m~/Documents/env_test/lib/python3.11/site-packages/transformers/utils/import_utils.py:1099\u001b[39m, in \u001b[36m_LazyModule._get_module\u001b[39m\u001b[34m(self, module_name)\u001b[39m\n\u001b[32m   1098\u001b[39m \u001b[38;5;28;01mtry\u001b[39;00m:\n\u001b[32m-> \u001b[39m\u001b[32m1099\u001b[39m     \u001b[38;5;28;01mreturn\u001b[39;00m \u001b[43mimportlib\u001b[49m\u001b[43m.\u001b[49m\u001b[43mimport_module\u001b[49m\u001b[43m(\u001b[49m\u001b[33;43m\"\u001b[39;49m\u001b[33;43m.\u001b[39;49m\u001b[33;43m\"\u001b[39;49m\u001b[43m \u001b[49m\u001b[43m+\u001b[49m\u001b[43m \u001b[49m\u001b[43mmodule_name\u001b[49m\u001b[43m,\u001b[49m\u001b[43m \u001b[49m\u001b[38;5;28;43mself\u001b[39;49m\u001b[43m.\u001b[49m\u001b[34;43m__name__\u001b[39;49m\u001b[43m)\u001b[49m\n\u001b[32m   1100\u001b[39m \u001b[38;5;28;01mexcept\u001b[39;00m \u001b[38;5;167;01mException\u001b[39;00m \u001b[38;5;28;01mas\u001b[39;00m e:\n",
      "\u001b[36mFile \u001b[39m\u001b[32m/usr/lib/python3.11/importlib/__init__.py:126\u001b[39m, in \u001b[36mimport_module\u001b[39m\u001b[34m(name, package)\u001b[39m\n\u001b[32m    125\u001b[39m         level += \u001b[32m1\u001b[39m\n\u001b[32m--> \u001b[39m\u001b[32m126\u001b[39m \u001b[38;5;28;01mreturn\u001b[39;00m \u001b[43m_bootstrap\u001b[49m\u001b[43m.\u001b[49m\u001b[43m_gcd_import\u001b[49m\u001b[43m(\u001b[49m\u001b[43mname\u001b[49m\u001b[43m[\u001b[49m\u001b[43mlevel\u001b[49m\u001b[43m:\u001b[49m\u001b[43m]\u001b[49m\u001b[43m,\u001b[49m\u001b[43m \u001b[49m\u001b[43mpackage\u001b[49m\u001b[43m,\u001b[49m\u001b[43m \u001b[49m\u001b[43mlevel\u001b[49m\u001b[43m)\u001b[49m\n",
      "\u001b[36mFile \u001b[39m\u001b[32m<frozen importlib._bootstrap>:1204\u001b[39m, in \u001b[36m_gcd_import\u001b[39m\u001b[34m(name, package, level)\u001b[39m\n",
      "\u001b[36mFile \u001b[39m\u001b[32m<frozen importlib._bootstrap>:1176\u001b[39m, in \u001b[36m_find_and_load\u001b[39m\u001b[34m(name, import_)\u001b[39m\n",
      "\u001b[36mFile \u001b[39m\u001b[32m<frozen importlib._bootstrap>:1147\u001b[39m, in \u001b[36m_find_and_load_unlocked\u001b[39m\u001b[34m(name, import_)\u001b[39m\n",
      "\u001b[36mFile \u001b[39m\u001b[32m<frozen importlib._bootstrap>:690\u001b[39m, in \u001b[36m_load_unlocked\u001b[39m\u001b[34m(spec)\u001b[39m\n",
      "\u001b[36mFile \u001b[39m\u001b[32m<frozen importlib._bootstrap_external>:940\u001b[39m, in \u001b[36mexec_module\u001b[39m\u001b[34m(self, module)\u001b[39m\n",
      "\u001b[36mFile \u001b[39m\u001b[32m<frozen importlib._bootstrap>:241\u001b[39m, in \u001b[36m_call_with_frames_removed\u001b[39m\u001b[34m(f, *args, **kwds)\u001b[39m\n",
      "\u001b[36mFile \u001b[39m\u001b[32m~/Documents/env_test/lib/python3.11/site-packages/transformers/training_args.py:68\u001b[39m\n\u001b[32m     67\u001b[39m     \u001b[38;5;28;01mfrom\u001b[39;00m\u001b[38;5;250m \u001b[39m\u001b[34;01maccelerate\u001b[39;00m\u001b[34;01m.\u001b[39;00m\u001b[34;01mstate\u001b[39;00m\u001b[38;5;250m \u001b[39m\u001b[38;5;28;01mimport\u001b[39;00m AcceleratorState, PartialState\n\u001b[32m---> \u001b[39m\u001b[32m68\u001b[39m     \u001b[38;5;28;01mfrom\u001b[39;00m\u001b[38;5;250m \u001b[39m\u001b[34;01maccelerate\u001b[39;00m\u001b[34;01m.\u001b[39;00m\u001b[34;01mutils\u001b[39;00m\u001b[38;5;250m \u001b[39m\u001b[38;5;28;01mimport\u001b[39;00m DistributedType\n\u001b[32m     70\u001b[39m \u001b[38;5;28;01mif\u001b[39;00m is_torch_tpu_available(check_device=\u001b[38;5;28;01mFalse\u001b[39;00m):\n",
      "\u001b[36mFile \u001b[39m\u001b[32m~/Documents/env_test/lib/python3.11/site-packages/accelerate/__init__.py:3\u001b[39m\n\u001b[32m      1\u001b[39m __version__ = \u001b[33m\"\u001b[39m\u001b[33m0.21.0\u001b[39m\u001b[33m\"\u001b[39m\n\u001b[32m----> \u001b[39m\u001b[32m3\u001b[39m \u001b[38;5;28;01mfrom\u001b[39;00m\u001b[38;5;250m \u001b[39m\u001b[34;01m.\u001b[39;00m\u001b[34;01maccelerator\u001b[39;00m\u001b[38;5;250m \u001b[39m\u001b[38;5;28;01mimport\u001b[39;00m Accelerator\n\u001b[32m      4\u001b[39m \u001b[38;5;28;01mfrom\u001b[39;00m\u001b[38;5;250m \u001b[39m\u001b[34;01m.\u001b[39;00m\u001b[34;01mbig_modeling\u001b[39;00m\u001b[38;5;250m \u001b[39m\u001b[38;5;28;01mimport\u001b[39;00m (\n\u001b[32m      5\u001b[39m     cpu_offload,\n\u001b[32m      6\u001b[39m     cpu_offload_with_hook,\n\u001b[32m   (...)\u001b[39m\u001b[32m     11\u001b[39m     load_checkpoint_and_dispatch,\n\u001b[32m     12\u001b[39m )\n",
      "\u001b[36mFile \u001b[39m\u001b[32m~/Documents/env_test/lib/python3.11/site-packages/accelerate/accelerator.py:35\u001b[39m\n\u001b[32m     33\u001b[39m \u001b[38;5;28;01mimport\u001b[39;00m\u001b[38;5;250m \u001b[39m\u001b[34;01mtorch\u001b[39;00m\u001b[34;01m.\u001b[39;00m\u001b[34;01mutils\u001b[39;00m\u001b[34;01m.\u001b[39;00m\u001b[34;01mhooks\u001b[39;00m\u001b[38;5;250m \u001b[39m\u001b[38;5;28;01mas\u001b[39;00m\u001b[38;5;250m \u001b[39m\u001b[34;01mhooks\u001b[39;00m\n\u001b[32m---> \u001b[39m\u001b[32m35\u001b[39m \u001b[38;5;28;01mfrom\u001b[39;00m\u001b[38;5;250m \u001b[39m\u001b[34;01m.\u001b[39;00m\u001b[34;01mcheckpointing\u001b[39;00m\u001b[38;5;250m \u001b[39m\u001b[38;5;28;01mimport\u001b[39;00m load_accelerator_state, load_custom_state, save_accelerator_state, save_custom_state\n\u001b[32m     36\u001b[39m \u001b[38;5;28;01mfrom\u001b[39;00m\u001b[38;5;250m \u001b[39m\u001b[34;01m.\u001b[39;00m\u001b[34;01mdata_loader\u001b[39;00m\u001b[38;5;250m \u001b[39m\u001b[38;5;28;01mimport\u001b[39;00m DataLoaderDispatcher, prepare_data_loader, skip_first_batches\n",
      "\u001b[36mFile \u001b[39m\u001b[32m~/Documents/env_test/lib/python3.11/site-packages/accelerate/checkpointing.py:24\u001b[39m\n\u001b[32m     22\u001b[39m \u001b[38;5;28;01mfrom\u001b[39;00m\u001b[38;5;250m \u001b[39m\u001b[34;01mtorch\u001b[39;00m\u001b[34;01m.\u001b[39;00m\u001b[34;01mcuda\u001b[39;00m\u001b[34;01m.\u001b[39;00m\u001b[34;01mamp\u001b[39;00m\u001b[38;5;250m \u001b[39m\u001b[38;5;28;01mimport\u001b[39;00m GradScaler\n\u001b[32m---> \u001b[39m\u001b[32m24\u001b[39m \u001b[38;5;28;01mfrom\u001b[39;00m\u001b[38;5;250m \u001b[39m\u001b[34;01m.\u001b[39;00m\u001b[34;01mutils\u001b[39;00m\u001b[38;5;250m \u001b[39m\u001b[38;5;28;01mimport\u001b[39;00m (\n\u001b[32m     25\u001b[39m     MODEL_NAME,\n\u001b[32m     26\u001b[39m     OPTIMIZER_NAME,\n\u001b[32m     27\u001b[39m     RNG_STATE_NAME,\n\u001b[32m     28\u001b[39m     SCALER_NAME,\n\u001b[32m     29\u001b[39m     SCHEDULER_NAME,\n\u001b[32m     30\u001b[39m     get_pretty_name,\n\u001b[32m     31\u001b[39m     is_tpu_available,\n\u001b[32m     32\u001b[39m     is_xpu_available,\n\u001b[32m     33\u001b[39m     save,\n\u001b[32m     34\u001b[39m )\n\u001b[32m     37\u001b[39m \u001b[38;5;28;01mif\u001b[39;00m is_tpu_available(check_device=\u001b[38;5;28;01mFalse\u001b[39;00m):\n",
      "\u001b[36mFile \u001b[39m\u001b[32m~/Documents/env_test/lib/python3.11/site-packages/accelerate/utils/__init__.py:131\u001b[39m\n\u001b[32m    122\u001b[39m     \u001b[38;5;28;01mfrom\u001b[39;00m\u001b[38;5;250m \u001b[39m\u001b[34;01m.\u001b[39;00m\u001b[34;01mdeepspeed\u001b[39;00m\u001b[38;5;250m \u001b[39m\u001b[38;5;28;01mimport\u001b[39;00m (\n\u001b[32m    123\u001b[39m         DeepSpeedEngineWrapper,\n\u001b[32m    124\u001b[39m         DeepSpeedOptimizerWrapper,\n\u001b[32m   (...)\u001b[39m\u001b[32m    128\u001b[39m         HfDeepSpeedConfig,\n\u001b[32m    129\u001b[39m     )\n\u001b[32m--> \u001b[39m\u001b[32m131\u001b[39m \u001b[38;5;28;01mfrom\u001b[39;00m\u001b[38;5;250m \u001b[39m\u001b[34;01m.\u001b[39;00m\u001b[34;01mbnb\u001b[39;00m\u001b[38;5;250m \u001b[39m\u001b[38;5;28;01mimport\u001b[39;00m has_4bit_bnb_layers, load_and_quantize_model\n\u001b[32m    132\u001b[39m \u001b[38;5;28;01mfrom\u001b[39;00m\u001b[38;5;250m \u001b[39m\u001b[34;01m.\u001b[39;00m\u001b[34;01mfsdp_utils\u001b[39;00m\u001b[38;5;250m \u001b[39m\u001b[38;5;28;01mimport\u001b[39;00m load_fsdp_model, load_fsdp_optimizer, save_fsdp_model, save_fsdp_optimizer\n",
      "\u001b[36mFile \u001b[39m\u001b[32m~/Documents/env_test/lib/python3.11/site-packages/accelerate/utils/bnb.py:42\u001b[39m\n\u001b[32m     41\u001b[39m \u001b[38;5;28;01mif\u001b[39;00m is_bnb_available():\n\u001b[32m---> \u001b[39m\u001b[32m42\u001b[39m     \u001b[38;5;28;01mimport\u001b[39;00m\u001b[38;5;250m \u001b[39m\u001b[34;01mbitsandbytes\u001b[39;00m\u001b[38;5;250m \u001b[39m\u001b[38;5;28;01mas\u001b[39;00m\u001b[38;5;250m \u001b[39m\u001b[34;01mbnb\u001b[39;00m\n\u001b[32m     44\u001b[39m \u001b[38;5;28;01mfrom\u001b[39;00m\u001b[38;5;250m \u001b[39m\u001b[34;01mcopy\u001b[39;00m\u001b[38;5;250m \u001b[39m\u001b[38;5;28;01mimport\u001b[39;00m deepcopy\n",
      "\u001b[36mFile \u001b[39m\u001b[32m~/Documents/env_test/lib/python3.11/site-packages/bitsandbytes/__init__.py:16\u001b[39m\n\u001b[32m     15\u001b[39m \u001b[38;5;28;01mfrom\u001b[39;00m\u001b[38;5;250m \u001b[39m\u001b[34;01m.\u001b[39;00m\u001b[34;01mcextension\u001b[39;00m\u001b[38;5;250m \u001b[39m\u001b[38;5;28;01mimport\u001b[39;00m COMPILED_WITH_CUDA\n\u001b[32m---> \u001b[39m\u001b[32m16\u001b[39m \u001b[38;5;28;01mfrom\u001b[39;00m\u001b[38;5;250m \u001b[39m\u001b[34;01m.\u001b[39;00m\u001b[34;01mnn\u001b[39;00m\u001b[38;5;250m \u001b[39m\u001b[38;5;28;01mimport\u001b[39;00m modules\n\u001b[32m     18\u001b[39m \u001b[38;5;28;01mif\u001b[39;00m COMPILED_WITH_CUDA:\n",
      "\u001b[36mFile \u001b[39m\u001b[32m~/Documents/env_test/lib/python3.11/site-packages/bitsandbytes/nn/__init__.py:6\u001b[39m\n\u001b[32m      5\u001b[39m \u001b[38;5;28;01mfrom\u001b[39;00m\u001b[38;5;250m \u001b[39m\u001b[34;01m.\u001b[39;00m\u001b[34;01mmodules\u001b[39;00m\u001b[38;5;250m \u001b[39m\u001b[38;5;28;01mimport\u001b[39;00m Int8Params, Linear8bitLt, StableEmbedding, Linear4bit, LinearNF4, LinearFP4, Params4bit, OutlierAwareLinear, SwitchBackLinearBnb\n\u001b[32m----> \u001b[39m\u001b[32m6\u001b[39m \u001b[38;5;28;01mfrom\u001b[39;00m\u001b[38;5;250m \u001b[39m\u001b[34;01m.\u001b[39;00m\u001b[34;01mtriton_based_modules\u001b[39;00m\u001b[38;5;250m \u001b[39m\u001b[38;5;28;01mimport\u001b[39;00m SwitchBackLinear, SwitchBackLinearGlobal, SwitchBackLinearVectorwise, StandardLinear\n",
      "\u001b[36mFile \u001b[39m\u001b[32m~/Documents/env_test/lib/python3.11/site-packages/bitsandbytes/nn/triton_based_modules.py:8\u001b[39m\n\u001b[32m      6\u001b[39m \u001b[38;5;28;01mfrom\u001b[39;00m\u001b[38;5;250m \u001b[39m\u001b[34;01mbitsandbytes\u001b[39;00m\u001b[34;01m.\u001b[39;00m\u001b[34;01mtriton\u001b[39;00m\u001b[34;01m.\u001b[39;00m\u001b[34;01mtriton_utils\u001b[39;00m\u001b[38;5;250m \u001b[39m\u001b[38;5;28;01mimport\u001b[39;00m is_triton_available\n\u001b[32m----> \u001b[39m\u001b[32m8\u001b[39m \u001b[38;5;28;01mfrom\u001b[39;00m\u001b[38;5;250m \u001b[39m\u001b[34;01mbitsandbytes\u001b[39;00m\u001b[34;01m.\u001b[39;00m\u001b[34;01mtriton\u001b[39;00m\u001b[34;01m.\u001b[39;00m\u001b[34;01mdequantize_rowwise\u001b[39;00m\u001b[38;5;250m \u001b[39m\u001b[38;5;28;01mimport\u001b[39;00m dequantize_rowwise\n\u001b[32m      9\u001b[39m \u001b[38;5;28;01mfrom\u001b[39;00m\u001b[38;5;250m \u001b[39m\u001b[34;01mbitsandbytes\u001b[39;00m\u001b[34;01m.\u001b[39;00m\u001b[34;01mtriton\u001b[39;00m\u001b[34;01m.\u001b[39;00m\u001b[34;01mquantize_rowwise\u001b[39;00m\u001b[38;5;250m \u001b[39m\u001b[38;5;28;01mimport\u001b[39;00m quantize_rowwise\n",
      "\u001b[36mFile \u001b[39m\u001b[32m~/Documents/env_test/lib/python3.11/site-packages/bitsandbytes/triton/dequantize_rowwise.py:12\u001b[39m\n\u001b[32m     11\u001b[39m \u001b[38;5;28;01mimport\u001b[39;00m\u001b[38;5;250m \u001b[39m\u001b[34;01mtriton\u001b[39;00m\u001b[34;01m.\u001b[39;00m\u001b[34;01mlanguage\u001b[39;00m\u001b[38;5;250m \u001b[39m\u001b[38;5;28;01mas\u001b[39;00m\u001b[38;5;250m \u001b[39m\u001b[34;01mtl\u001b[39;00m\n\u001b[32m---> \u001b[39m\u001b[32m12\u001b[39m \u001b[38;5;28;01mfrom\u001b[39;00m\u001b[38;5;250m \u001b[39m\u001b[34;01mtriton\u001b[39;00m\u001b[34;01m.\u001b[39;00m\u001b[34;01mops\u001b[39;00m\u001b[34;01m.\u001b[39;00m\u001b[34;01mmatmul_perf_model\u001b[39;00m\u001b[38;5;250m \u001b[39m\u001b[38;5;28;01mimport\u001b[39;00m early_config_prune, estimate_matmul_time\n\u001b[32m     14\u001b[39m \u001b[38;5;66;03m# rowwise quantize\u001b[39;00m\n\u001b[32m     15\u001b[39m \n\u001b[32m     16\u001b[39m \u001b[38;5;66;03m# TODO: autotune this better.\u001b[39;00m\n",
      "\u001b[31mModuleNotFoundError\u001b[39m: No module named 'triton.ops'",
      "\nThe above exception was the direct cause of the following exception:\n",
      "\u001b[31mRuntimeError\u001b[39m                              Traceback (most recent call last)",
      "\u001b[36mCell\u001b[39m\u001b[36m \u001b[39m\u001b[32mIn[10]\u001b[39m\u001b[32m, line 3\u001b[39m\n\u001b[32m      1\u001b[39m \u001b[38;5;28;01mimport\u001b[39;00m\u001b[38;5;250m \u001b[39m\u001b[34;01mos\u001b[39;00m\n\u001b[32m      2\u001b[39m \u001b[38;5;28;01mimport\u001b[39;00m\u001b[38;5;250m \u001b[39m\u001b[34;01mtorch\u001b[39;00m\n\u001b[32m----> \u001b[39m\u001b[32m3\u001b[39m \u001b[38;5;28;01mfrom\u001b[39;00m\u001b[38;5;250m \u001b[39m\u001b[34;01mtransformers\u001b[39;00m\u001b[38;5;250m \u001b[39m\u001b[38;5;28;01mimport\u001b[39;00m (\n\u001b[32m      4\u001b[39m     AutoModelForCausalLM,\n\u001b[32m      5\u001b[39m     AutoTokenizer,\n\u001b[32m      6\u001b[39m     BitsAndBytesConfig,\n\u001b[32m      7\u001b[39m     HfArgumentParser,\n\u001b[32m      8\u001b[39m     TrainingArguments,\n\u001b[32m      9\u001b[39m     pipeline,\n\u001b[32m     10\u001b[39m     logging,\n\u001b[32m     11\u001b[39m )\n\u001b[32m     12\u001b[39m \u001b[38;5;28;01mfrom\u001b[39;00m\u001b[38;5;250m \u001b[39m\u001b[34;01mpeft\u001b[39;00m\u001b[38;5;250m \u001b[39m\u001b[38;5;28;01mimport\u001b[39;00m LoraConfig, PeftModel\n\u001b[32m     13\u001b[39m \u001b[38;5;28;01mfrom\u001b[39;00m\u001b[38;5;250m \u001b[39m\u001b[34;01mtrl\u001b[39;00m\u001b[38;5;250m \u001b[39m\u001b[38;5;28;01mimport\u001b[39;00m SFTTrainer\n",
      "\u001b[36mFile \u001b[39m\u001b[32m<frozen importlib._bootstrap>:1229\u001b[39m, in \u001b[36m_handle_fromlist\u001b[39m\u001b[34m(module, fromlist, import_, recursive)\u001b[39m\n",
      "\u001b[36mFile \u001b[39m\u001b[32m~/Documents/env_test/lib/python3.11/site-packages/transformers/utils/import_utils.py:1089\u001b[39m, in \u001b[36m_LazyModule.__getattr__\u001b[39m\u001b[34m(self, name)\u001b[39m\n\u001b[32m   1087\u001b[39m     value = \u001b[38;5;28mself\u001b[39m._get_module(name)\n\u001b[32m   1088\u001b[39m \u001b[38;5;28;01melif\u001b[39;00m name \u001b[38;5;129;01min\u001b[39;00m \u001b[38;5;28mself\u001b[39m._class_to_module.keys():\n\u001b[32m-> \u001b[39m\u001b[32m1089\u001b[39m     module = \u001b[38;5;28;43mself\u001b[39;49m\u001b[43m.\u001b[49m\u001b[43m_get_module\u001b[49m\u001b[43m(\u001b[49m\u001b[38;5;28;43mself\u001b[39;49m\u001b[43m.\u001b[49m\u001b[43m_class_to_module\u001b[49m\u001b[43m[\u001b[49m\u001b[43mname\u001b[49m\u001b[43m]\u001b[49m\u001b[43m)\u001b[49m\n\u001b[32m   1090\u001b[39m     value = \u001b[38;5;28mgetattr\u001b[39m(module, name)\n\u001b[32m   1091\u001b[39m \u001b[38;5;28;01melse\u001b[39;00m:\n",
      "\u001b[36mFile \u001b[39m\u001b[32m~/Documents/env_test/lib/python3.11/site-packages/transformers/utils/import_utils.py:1101\u001b[39m, in \u001b[36m_LazyModule._get_module\u001b[39m\u001b[34m(self, module_name)\u001b[39m\n\u001b[32m   1099\u001b[39m     \u001b[38;5;28;01mreturn\u001b[39;00m importlib.import_module(\u001b[33m\"\u001b[39m\u001b[33m.\u001b[39m\u001b[33m\"\u001b[39m + module_name, \u001b[38;5;28mself\u001b[39m.\u001b[34m__name__\u001b[39m)\n\u001b[32m   1100\u001b[39m \u001b[38;5;28;01mexcept\u001b[39;00m \u001b[38;5;167;01mException\u001b[39;00m \u001b[38;5;28;01mas\u001b[39;00m e:\n\u001b[32m-> \u001b[39m\u001b[32m1101\u001b[39m     \u001b[38;5;28;01mraise\u001b[39;00m \u001b[38;5;167;01mRuntimeError\u001b[39;00m(\n\u001b[32m   1102\u001b[39m         \u001b[33mf\u001b[39m\u001b[33m\"\u001b[39m\u001b[33mFailed to import \u001b[39m\u001b[38;5;132;01m{\u001b[39;00m\u001b[38;5;28mself\u001b[39m.\u001b[34m__name__\u001b[39m\u001b[38;5;132;01m}\u001b[39;00m\u001b[33m.\u001b[39m\u001b[38;5;132;01m{\u001b[39;00mmodule_name\u001b[38;5;132;01m}\u001b[39;00m\u001b[33m because of the following error (look up to see its\u001b[39m\u001b[33m\"\u001b[39m\n\u001b[32m   1103\u001b[39m         \u001b[33mf\u001b[39m\u001b[33m\"\u001b[39m\u001b[33m traceback):\u001b[39m\u001b[38;5;130;01m\\n\u001b[39;00m\u001b[38;5;132;01m{\u001b[39;00me\u001b[38;5;132;01m}\u001b[39;00m\u001b[33m\"\u001b[39m\n\u001b[32m   1104\u001b[39m     ) \u001b[38;5;28;01mfrom\u001b[39;00m\u001b[38;5;250m \u001b[39m\u001b[34;01me\u001b[39;00m\n",
      "\u001b[31mRuntimeError\u001b[39m: Failed to import transformers.training_args because of the following error (look up to see its traceback):\nNo module named 'triton.ops'"
     ]
    }
   ],
   "source": [
    "import os\n",
    "import torch\n",
    "from transformers import (\n",
    "    AutoModelForCausalLM,\n",
    "    AutoTokenizer,\n",
    "    BitsAndBytesConfig,\n",
    "    HfArgumentParser,\n",
    "    TrainingArguments,\n",
    "    pipeline,\n",
    "    logging,\n",
    ")\n",
    "from peft import LoraConfig, PeftModel\n",
    "from trl import SFTTrainer"
   ]
  },
  {
   "cell_type": "code",
   "execution_count": 11,
   "metadata": {},
   "outputs": [
    {
     "name": "stdout",
     "output_type": "stream",
     "text": [
      "False\n"
     ]
    }
   ],
   "source": [
    "import torch\n",
    "print(torch.cuda.is_available())  # Should print True if GPU is available\n"
   ]
  },
  {
   "cell_type": "code",
   "execution_count": null,
   "metadata": {},
   "outputs": [],
   "source": []
  }
 ],
 "metadata": {
  "kernelspec": {
   "display_name": "env_test",
   "language": "python",
   "name": "python3"
  },
  "language_info": {
   "codemirror_mode": {
    "name": "ipython",
    "version": 3
   },
   "file_extension": ".py",
   "mimetype": "text/x-python",
   "name": "python",
   "nbconvert_exporter": "python",
   "pygments_lexer": "ipython3",
   "version": "3.12.3"
  }
 },
 "nbformat": 4,
 "nbformat_minor": 2
}
