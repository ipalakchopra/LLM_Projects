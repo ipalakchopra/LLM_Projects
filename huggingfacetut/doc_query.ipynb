{
 "cells": [
  {
   "cell_type": "code",
   "execution_count": 2,
   "metadata": {},
   "outputs": [],
   "source": [
    "from langchain_community.document_loaders import PyPDFLoader, PyPDFDirectoryLoader\n",
    "from langchain.text_splitter import RecursiveCharacterTextSplitter\n",
    "from langchain_community.vectorstores import FAISS\n",
    "\n",
    "from langchain_community.embeddings import HuggingFaceBgeEmbeddings\n",
    "from langchain.prompts import PromptTemplate\n",
    "\n",
    "from langchain.chains import RetrievalQA"
   ]
  },
  {
   "cell_type": "code",
   "execution_count": 3,
   "metadata": {},
   "outputs": [
    {
     "data": {
      "text/plain": [
       "Document(metadata={'producer': 'Adobe PDF Library 17.0', 'creator': 'Adobe InDesign 18.2 (Windows)', 'creationdate': '2023-09-09T07:52:17-04:00', 'author': 'U.S. Census Bureau', 'keywords': 'acsbr-015', 'moddate': '2023-09-12T14:44:47+01:00', 'title': 'Health Insurance Coverage Status and Type by Geography: 2021 and 2022', 'trapped': '/false', 'source': 'us_census/acsbr-015.pdf', 'total_pages': 18, 'page': 0, 'page_label': '1'}, page_content='Health Insurance Coverage Status and Type \\nby Geography: 2021 and 2022\\nAmerican Community Survey Briefs\\nACSBR-015\\nIssued September 2023\\nDouglas Conway and Breauna Branch\\nINTRODUCTION\\nDemographic shifts as well as economic and govern-\\nment policy changes can affect people’s access to \\nhealth coverage. For example, between 2021 and 2022, \\nthe labor market continued to improve, which may \\nhave affected private coverage in the United States \\nduring that time.\\n1 Public policy changes included \\nthe renewal of the Public Health Emergency, which \\nallowed Medicaid enrollees to remain covered under \\nthe Continuous Enrollment Provision.\\n2 The American \\nRescue Plan (ARP) enhanced Marketplace premium \\nsubsidies for those with incomes above 400 percent \\nof the poverty level as well as for unemployed people.\\n3\\nIn addition to national policies, individual states and \\nthe District of Columbia can affect health insurance \\ncoverage by making Marketplace or Medicaid more')"
      ]
     },
     "execution_count": 3,
     "metadata": {},
     "output_type": "execute_result"
    }
   ],
   "source": [
    "loader = PyPDFDirectoryLoader(\"./us_census\")\n",
    "documents = loader.load()\n",
    "\n",
    "text_splitter = RecursiveCharacterTextSplitter(chunk_size=1000, chunk_overlap=200)\n",
    "\n",
    "final_documents = text_splitter.split_documents(documents)\n",
    "final_documents[0]"
   ]
  },
  {
   "cell_type": "code",
   "execution_count": 4,
   "metadata": {},
   "outputs": [
    {
     "name": "stderr",
     "output_type": "stream",
     "text": [
      "/tmp/ipykernel_140385/901316050.py:1: LangChainDeprecationWarning: The class `HuggingFaceBgeEmbeddings` was deprecated in LangChain 0.2.2 and will be removed in 1.0. An updated version of the class exists in the :class:`~langchain-huggingface package and should be used instead. To use it run `pip install -U :class:`~langchain-huggingface` and import as `from :class:`~langchain_huggingface import HuggingFaceEmbeddings``.\n",
      "  huggingface_embeddings = HuggingFaceBgeEmbeddings(\n",
      "/home/ppk/Documents/LLM_Project/env/lib/python3.11/site-packages/tqdm/auto.py:21: TqdmWarning: IProgress not found. Please update jupyter and ipywidgets. See https://ipywidgets.readthedocs.io/en/stable/user_install.html\n",
      "  from .autonotebook import tqdm as notebook_tqdm\n"
     ]
    }
   ],
   "source": [
    "huggingface_embeddings = HuggingFaceBgeEmbeddings(\n",
    "    model_name=\"BAAI/bge-small-en-v1.5\", #or sentence-transformers/all-MiniLM-16-v2\n",
    "    model_kwargs = {'device':'cpu'},\n",
    "    encode_kwargs = {'normalize_embeddings':True}\n",
    ")"
   ]
  },
  {
   "cell_type": "code",
   "execution_count": 5,
   "metadata": {},
   "outputs": [
    {
     "data": {
      "text/plain": [
       "array([-0.07903482, -0.01134111, -0.02312097,  0.02844462,  0.05053343,\n",
       "        0.05317824, -0.01907787,  0.03456026, -0.1021137 , -0.02915704,\n",
       "        0.08524264,  0.05650728, -0.02545437, -0.03308489, -0.00635733,\n",
       "        0.04090864, -0.00628108,  0.00356743, -0.03854128,  0.03667685,\n",
       "       -0.04289804,  0.03425251, -0.031169  , -0.03793724,  0.01728393,\n",
       "        0.01214925,  0.00653121,  0.01463565, -0.05529054, -0.15320709,\n",
       "        0.00730846,  0.03202943, -0.04701128, -0.01595973,  0.01874445,\n",
       "        0.02642935, -0.02306378,  0.08438038,  0.04182486,  0.05278175,\n",
       "       -0.03057603,  0.01564258, -0.01689074,  0.00529412, -0.02417434,\n",
       "        0.00412998, -0.01889937, -0.00150624, -0.0083694 , -0.03390064,\n",
       "        0.03515957, -0.00553132,  0.04910938,  0.05971858,  0.05615962,\n",
       "       -0.05105155,  0.01475132, -0.01849959, -0.03284642,  0.03576626,\n",
       "        0.04947704, -0.0093888 , -0.26202121,  0.09750332,  0.0171569 ,\n",
       "        0.04781386, -0.0055632 , -0.00298308, -0.02207357, -0.04463671,\n",
       "       -0.05760485,  0.04815876, -0.0552221 ,  0.01635334,  0.03299243,\n",
       "        0.02147074,  0.01296217,  0.01462309,  0.02174951, -0.00202998,\n",
       "        0.02099538,  0.03353845, -0.00345111, -0.04823536,  0.05149956,\n",
       "       -0.08948109,  0.04491433, -0.03423373,  0.02495742, -0.03332329,\n",
       "       -0.04124897,  0.01226978,  0.00551145,  0.02813651,  0.00750806,\n",
       "        0.03364133, -0.00718588, -0.00677304, -0.02375996,  0.34350556,\n",
       "       -0.02040539,  0.00967849, -0.00936511,  0.01524743, -0.00692599,\n",
       "       -0.0580374 , -0.00443032,  0.01115697,  0.01746199,  0.01258482,\n",
       "        0.0215861 , -0.02646192,  0.01026772,  0.04782216, -0.03718097,\n",
       "       -0.01986197,  0.04008093,  0.01574838,  0.09363519, -0.02635875,\n",
       "       -0.01393855,  0.03410934, -0.01630284, -0.04708786,  0.02137171,\n",
       "        0.06708884,  0.05438906,  0.15054175,  0.03444391, -0.04218607,\n",
       "        0.10422419, -0.04002275, -0.00191297,  0.00459117, -0.00292591,\n",
       "        0.00371357, -0.02687684,  0.03972119, -0.00739631,  0.05129853,\n",
       "        0.00698696, -0.0004355 , -0.00752803, -0.13413782, -0.03140996,\n",
       "        0.17964657, -0.02152572,  0.04534228,  0.0202722 , -0.01826409,\n",
       "       -0.04439811,  0.04787034, -0.03801554,  0.04057756, -0.03817714,\n",
       "        0.01659366, -0.0036818 ,  0.02469144, -0.02634713, -0.06727427,\n",
       "        0.05705411, -0.03698839, -0.05754098,  0.01774043,  0.04163104,\n",
       "       -0.02699812, -0.01342315, -0.06434498,  0.02320636,  0.00476099,\n",
       "        0.01345851,  0.05142654,  0.01828845, -0.02267208,  0.08680935,\n",
       "        0.02288986, -0.02278558, -0.00261804, -0.00936066, -0.0596436 ,\n",
       "        0.00370066, -0.0277214 , -0.05116593, -0.04951672, -0.01691758,\n",
       "       -0.04342574, -0.06551473,  0.0578272 ,  0.04989289, -0.01559617,\n",
       "       -0.00385897,  0.00827748, -0.06377076,  0.01969862, -0.01933414,\n",
       "       -0.01095797, -0.05990801, -0.02187357,  0.03869356, -0.02963527,\n",
       "       -0.03095984,  0.02629451,  0.00857688, -0.00225384, -0.00917328,\n",
       "        0.02006878,  0.02308834, -0.06949832,  0.03825645, -0.01321395,\n",
       "        0.00288256,  0.04065885,  0.03197156,  0.00364806,  0.03610994,\n",
       "        0.0165304 ,  0.0128288 , -0.02190454,  0.02050888,  0.03220992,\n",
       "        0.03351385,  0.06819049,  0.09490158, -0.27463818, -0.00499029,\n",
       "        0.00181547,  0.00687727, -0.06947187, -0.05266642, -0.045476  ,\n",
       "        0.02707842,  0.00403481,  0.08909725,  0.06208606, -0.00817406,\n",
       "       -0.02176251,  0.10530714,  0.0210507 , -0.08313888,  0.02648288,\n",
       "       -0.02122214, -0.01542383, -0.00282383,  0.00493172,  0.00487718,\n",
       "       -0.06012278, -0.02174248,  0.08150741, -0.0174673 ,  0.06210528,\n",
       "       -0.05241901, -0.07425199,  0.00045816, -0.05536215,  0.05762159,\n",
       "       -0.00776096, -0.11965961,  0.06155295,  0.01773321, -0.0749014 ,\n",
       "        0.00434346, -0.06374461, -0.03096172, -0.0268265 ,  0.05158745,\n",
       "       -0.06356604,  0.02999   , -0.01865462, -0.05194331,  0.04636513,\n",
       "        0.07127583, -0.08020448,  0.0102525 ,  0.00649392, -0.03402689,\n",
       "       -0.03371229, -0.01476089,  0.02565077, -0.06251821, -0.03164579,\n",
       "        0.03269229, -0.01906627, -0.00269568,  0.02393795,  0.00502712,\n",
       "        0.04807225, -0.00441299, -0.00810784, -0.04506415,  0.01010004,\n",
       "       -0.03085291, -0.0709132 ,  0.00998589,  0.00276084,  0.04710477,\n",
       "       -0.02302792, -0.02459346,  0.01797342, -0.02112836,  0.04660881,\n",
       "       -0.00104207, -0.00374574, -0.04950181,  0.04251794, -0.0573385 ,\n",
       "        0.02055238,  0.04219672, -0.0116706 ,  0.0124185 ,  0.01056791,\n",
       "        0.00663806, -0.01598004,  0.016328  , -0.0205675 , -0.0155383 ,\n",
       "       -0.01156684, -0.01864406,  0.00332143,  0.00658676, -0.21910882,\n",
       "        0.04714746,  0.02075715, -0.02441517, -0.00868848, -0.0163412 ,\n",
       "       -0.02499122,  0.00766706, -0.01083086, -0.0247253 ,  0.0525485 ,\n",
       "        0.08288423,  0.11848129, -0.01936333, -0.00433762,  0.00458101,\n",
       "        0.0694774 ,  0.00124527,  0.023687  , -0.03457183,  0.06163957,\n",
       "       -0.06045357,  0.1464009 , -0.03099674,  0.01726848, -0.06827349,\n",
       "       -0.01641338,  0.0376527 , -0.03385304,  0.01721651,  0.02592444,\n",
       "       -0.00034791,  0.02241222, -0.01919535,  0.05005868,  0.00834137,\n",
       "        0.00977349,  0.05592788,  0.00274988,  0.02592715, -0.04995014,\n",
       "       -0.02017875,  0.0231792 ,  0.01068104,  0.06462802, -0.02950337,\n",
       "       -0.04529897, -0.06358049, -0.01058142,  0.06793746,  0.00993983,\n",
       "       -0.02914157,  0.00441982,  0.01224197, -0.0569934 , -0.01181841,\n",
       "       -0.06126491,  0.03326268,  0.00284466, -0.01248831,  0.02214625,\n",
       "        0.04263511, -0.07597522,  0.01234052,  0.06002014])"
      ]
     },
     "execution_count": 5,
     "metadata": {},
     "output_type": "execute_result"
    }
   ],
   "source": [
    "import numpy as np\n",
    "np.array(huggingface_embeddings.embed_query(final_documents[0].page_content))"
   ]
  },
  {
   "cell_type": "code",
   "execution_count": 6,
   "metadata": {},
   "outputs": [],
   "source": [
    "vectorstore = FAISS.from_documents(final_documents[:120],huggingface_embeddings)"
   ]
  },
  {
   "cell_type": "code",
   "execution_count": 7,
   "metadata": {},
   "outputs": [
    {
     "name": "stdout",
     "output_type": "stream",
     "text": [
      "2 U.S. Census Bureau\n",
      "WHAT IS HEALTH INSURANCE COVERAGE?\n",
      "This brief presents state-level estimates of health insurance coverage \n",
      "using data from the American Community Survey (ACS). The  \n",
      "U.S. Census Bureau conducts the ACS throughout the year; the \n",
      "survey asks respondents to report their coverage at the time of \n",
      "interview. The resulting measure of health insurance coverage, \n",
      "therefore, reflects an annual average of current comprehensive \n",
      "health insurance coverage status.* This uninsured rate measures a \n",
      "different concept than the measure based on the Current Population \n",
      "Survey Annual Social and Economic Supplement (CPS ASEC). \n",
      "For reporting purposes, the ACS broadly classifies health insurance \n",
      "coverage as private insurance or public insurance. The ACS defines \n",
      "private health insurance as a plan provided through an employer \n",
      "or a union, coverage purchased directly by an individual from an \n",
      "insurance company or through an exchange (such as healthcare.\n"
     ]
    }
   ],
   "source": [
    "query=\"WHAT IS HEALTH INSURANCE COVERAGE?\"\n",
    "relevant_documents = vectorstore.similarity_search(query)\n",
    "\n",
    "print(relevant_documents[0].page_content)"
   ]
  },
  {
   "cell_type": "code",
   "execution_count": 8,
   "metadata": {},
   "outputs": [
    {
     "name": "stdout",
     "output_type": "stream",
     "text": [
      "tags=['FAISS', 'HuggingFaceBgeEmbeddings'] vectorstore=<langchain_community.vectorstores.faiss.FAISS object at 0x728f89f8f610> search_kwargs={'k': 3}\n"
     ]
    }
   ],
   "source": [
    "retriever = vectorstore.as_retriever(search_type=\"similarity\",search_kwargs={\"k\":3})\n",
    "print(retriever)"
   ]
  },
  {
   "cell_type": "code",
   "execution_count": 9,
   "metadata": {},
   "outputs": [],
   "source": [
    "import os\n",
    "from dotenv import load_dotenv\n",
    "\n",
    "load_dotenv()\n",
    "\n",
    "hf_api_key = os.environ['HUGGINGFACE_TOKEN']\n"
   ]
  },
  {
   "cell_type": "code",
   "execution_count": 10,
   "metadata": {},
   "outputs": [
    {
     "name": "stderr",
     "output_type": "stream",
     "text": [
      "Loading checkpoint shards: 100%|██████████| 2/2 [00:17<00:00,  8.54s/it]\n",
      "Device set to use cpu\n",
      "/home/ppk/Documents/LLM_Project/env/lib/python3.11/site-packages/transformers/generation/configuration_utils.py:631: UserWarning: `do_sample` is set to `False`. However, `temperature` is set to `0.1` -- this flag is only used in sample-based generation modes. You should set `do_sample=True` or unset `temperature`.\n",
      "  warnings.warn(\n"
     ]
    },
    {
     "data": {
      "text/plain": [
       "'What is the health insurance coverage?\\n\\nThe health insurance coverage is a contract between the insurer and the insured. The insurer agrees to pay the insured for the medical expenses incurred by the insured. The insured agrees to pay the premiums to the insurer.\\n\\nWhat is the health insurance coverage?\\n\\nThe health insurance coverage is a contract between the insurer and the insured. The insurer agrees to pay the insured for the medical expenses incurred by the insured. The insured agrees to pay the premiums to the insurer.\\n\\nWhat is the health insurance coverage?\\n\\nThe health insurance coverage is a contract between the insurer and the insured. The insurer agrees to pay the insured for the medical expenses incurred by the insured. The insured agrees to pay the premiums to the insurer.\\n\\nWhat is the health insurance coverage?\\n\\nThe health insurance coverage is a contract between the insurer and the insured. The insurer agrees to pay the insured for the medical expenses incurred by the insured. The insured agrees to pay the premiums to the insurer.\\n\\nWhat is the health insurance coverage?\\n\\nThe health insurance coverage is a contract between the insurer and the insured. The insurer agrees to pay the insured for the medical expenses incurred by the insured. The insured agrees to pay the premiums to the insurer.\\n\\nWhat is the health insurance coverage?\\n\\nThe health insurance coverage is a contract between the insurer and the insured. The insurer agrees to pay the insured for the medical expenses incurred by the insured. The insured agrees to pay the premiums to the insurer.\\n\\nWhat is the health insurance coverage?\\n\\nThe health insurance coverage is a contract between the insurer and the insured. The insurer agrees to pay the insured for the medical expenses incurred by the insured. The insured agrees to pay the premiums to the insurer.\\n\\nWhat is the health insurance coverage?\\n\\nThe health insurance coverage is a contract between the insurer and the insured. The insurer agrees to pay the insured for the medical expenses incurred by the insured. The insured agrees to pay the premiums to the insurer.\\n\\nWhat is the health insurance coverage?\\n\\nThe health'"
      ]
     },
     "execution_count": 10,
     "metadata": {},
     "output_type": "execute_result"
    }
   ],
   "source": [
    "from langchain_community.llms.huggingface_pipeline import HuggingFacePipeline\n",
    "\n",
    "hf = HuggingFacePipeline.from_model_id(\n",
    "    model_id = \"mistralai/Mistral-7B-v0.1\",\n",
    "    task=\"text-generation\",\n",
    " #   huggingfacehub_api_token = hf_api_key,\n",
    "    pipeline_kwargs = {\"temperature\":0.1, \"max_new_tokens\":500}\n",
    ")\n",
    "query = \"What is the health insurance coverage?\"\n",
    "hf.invoke(query)"
   ]
  },
  {
   "cell_type": "code",
   "execution_count": 11,
   "metadata": {},
   "outputs": [],
   "source": [
    "prompt_template=\"\"\"\n",
    "Use the following piece of context to answer the question asked.\n",
    "Please try to provide the answer only based on the context\n",
    "\n",
    "{context}\n",
    "Question:{question}\n",
    "\n",
    "Helpful Answers:\n",
    " \"\"\"\n",
    "\n",
    "prompt = PromptTemplate(template=prompt_template, input_variables=[\"context\",\"question\"])"
   ]
  },
  {
   "cell_type": "code",
   "execution_count": 12,
   "metadata": {},
   "outputs": [],
   "source": [
    "retrievalQA = RetrievalQA.from_chain_type(\n",
    "    llm=hf,\n",
    "    chain_type=\"stuff\",\n",
    "    retriever=retriever,\n",
    "    return_source_documents=True,\n",
    "    chain_type_kwargs={\"prompt\":prompt}\n",
    ")"
   ]
  },
  {
   "cell_type": "code",
   "execution_count": 13,
   "metadata": {},
   "outputs": [],
   "source": [
    "query=\"\"\"DIFFERENCES IN THE\n",
    "UNINSURED RATE BY STATE\n",
    "IN 2022\"\"\""
   ]
  },
  {
   "cell_type": "code",
   "execution_count": 14,
   "metadata": {},
   "outputs": [
    {
     "name": "stderr",
     "output_type": "stream",
     "text": [
      "/home/ppk/Documents/LLM_Project/env/lib/python3.11/site-packages/transformers/generation/configuration_utils.py:631: UserWarning: `do_sample` is set to `False`. However, `temperature` is set to `0.1` -- this flag is only used in sample-based generation modes. You should set `do_sample=True` or unset `temperature`.\n",
      "  warnings.warn(\n"
     ]
    },
    {
     "name": "stdout",
     "output_type": "stream",
     "text": [
      "\n",
      "Use the following piece of context to answer the question asked.\n",
      "Please try to provide the answer only based on the context\n",
      "\n",
      "comparison of ACS and CPS ASEC measures \n",
      "of health insurance coverage, refer to <www.\n",
      "census.gov/topics/health/health-insurance/\n",
      "guidance.html>.\n",
      "9 Respondents may have more than one \n",
      "health insurance coverage type at the time \n",
      "of interview. As a result, adding the total \n",
      "number of people with private coverage and \n",
      "the total number with public coverage will \n",
      "sum to more than the total number with any \n",
      "coverage.\n",
      "• From 2021 to 2022, nine states \n",
      "reported increases in private \n",
      "coverage, while seven reported \n",
      "decreases (Appendix Table B-2). \n",
      "DIFFERENCES IN THE \n",
      "UNINSURED RATE BY STATE \n",
      "IN 2022\n",
      "In 2022, uninsured rates at the \n",
      "time of interview ranged across \n",
      "states from a low of 2.4 percent \n",
      "in Massachusetts to a high of 16.6 \n",
      "percent in Texas, compared to the \n",
      "national rate of 8.0 percent.10 Ten \n",
      "of the 15 states with uninsured \n",
      "10 The uninsured rates in the District \n",
      "of Columbia and Massachusetts were not \n",
      "statistically different.\n",
      "rates above the national aver-\n",
      "\n",
      "percent (Appendix Table B-5). \n",
      "Medicaid coverage accounted \n",
      "for a portion of that difference. \n",
      "Medicaid coverage was 22.7 per-\n",
      "cent in the group of states that \n",
      "expanded Medicaid eligibility and \n",
      "18.0 percent in the group of nonex-\n",
      "pansion states.\n",
      "CHANGES IN THE UNINSURED \n",
      "RATE BY STATE FROM 2021 \n",
      "TO 2022\n",
      "From 2021 to 2022, uninsured rates \n",
      "decreased across 27 states, while \n",
      "only Maine had an increase. The \n",
      "uninsured rate in Maine increased \n",
      "from 5.7 percent to 6.6 percent, \n",
      "although it remained below the \n",
      "national average. Maine’s uninsured \n",
      "rate was still below 8.0 percent, \n",
      "21 Douglas Conway and Breauna Branch, \n",
      "“Health Insurance Coverage Status and Type \n",
      "by Geography: 2019 and 2021,” 2022, <www.\n",
      "census.gov/content/dam/Census/library/\n",
      "publications/2022/acs/acsbr-013.pdf>.\n",
      "\n",
      "library/publications/2022/acs/acsbr-013.pdf>.\n",
      "39 In 2022, the private coverage rates were \n",
      "not statistically different in North Dakota and \n",
      "Utah.\n",
      "Figure /five.tab/period.tab\n",
      "Percentage of Uninsured People for the /two.tab/five.tab Most Populous Metropolitan \n",
      "Areas/colon.tab /two.tab/zero.tab/two.tab/one.tab and /two.tab/zero.tab/two.tab/two.tab\n",
      "(Civilian, noninstitutionalized population) /uni00A0\n",
      "* Denotes a statistically signiﬁcant change between 2021 and 2022 at the 90 percent conﬁdence level.\n",
      "Note: For information on conﬁdentiality protection, sampling error, nonsampling error, and deﬁnitions in the American Community\n",
      "Survey, refer to <https://www2.census.gov/programs-surveys/acs/tech_docs/accuracy/ACS_Accuracy_of_Data_2022.pdf>.\n",
      "Source: U.S. Census Bureau, 2021 and 2022 American Community Survey, 1-year estimates.\n",
      " Boston-Cambridge-Newton/comma.tab MA-NH\n",
      "San Francisco-Oakland-Berkeley/comma.tab CA\n",
      "*Detroit-Warren-Dearborn/comma.tab MI\n",
      "Question:DIFFERENCES IN THE\n",
      "UNINSURED RATE BY STATE\n",
      "IN 2022\n",
      "\n",
      "Helpful Answers:\n",
      " 1. The uninsured rate in Massachusetts was 2.4 percent in 2022.\n",
      " 2. The uninsured rate in Texas was 16.6 percent in 2022.\n",
      " 3. The uninsured rate in the District of Columbia was 2.4 percent in 2022.\n",
      " 4. The uninsured rate in Maine was 6.6 percent in 2022.\n",
      " 5. The uninsured rate in North Dakota was 5.7 percent in 2022.\n",
      " 6. The uninsured rate in Utah was 5.7 percent in 2022.\n",
      " 7. The uninsured rate in the group of states that expanded Medicaid eligibility was 22.7 percent in 2022.\n",
      " 8. The uninsured rate in the group of nonexpansion states was 18.0 percent in 2022.\n",
      " 9. The uninsured rate in Maine increased from 5.7 percent in 2021 to 6.6 percent in 2022.\n",
      " 10. The uninsured rate in the District of Columbia was not statistically different from the uninsured rate in Massachusetts in 2022.\n",
      " 11. The uninsured rate in Maine was below the national average in 2022.\n",
      " 12. The uninsured rate in North Dakota was not statistically different from the uninsured rate in Utah in 2022.\n",
      " 13. The uninsured rate in the group of states that expanded Medicaid eligibility was higher than the uninsured rate in the group of nonexpansion states in 2022.\n",
      " 14. The uninsured rate in Maine increased from 5.7 percent in 2021 to 6.6 percent in 2022.\n",
      " 15. The uninsured rate in the District of Columbia was not statistically different from the uninsured rate in Massachusetts in 2022.\n",
      " 16. The uninsured rate in Maine was below the national average in 2022.\n",
      " 17. The uninsured rate in North Dakota was\n"
     ]
    }
   ],
   "source": [
    "result = retrievalQA.invoke({'query':query})\n",
    "print(result['result'])"
   ]
  },
  {
   "cell_type": "code",
   "execution_count": null,
   "metadata": {},
   "outputs": [],
   "source": []
  }
 ],
 "metadata": {
  "kernelspec": {
   "display_name": "env",
   "language": "python",
   "name": "python3"
  },
  "language_info": {
   "codemirror_mode": {
    "name": "ipython",
    "version": 3
   },
   "file_extension": ".py",
   "mimetype": "text/x-python",
   "name": "python",
   "nbconvert_exporter": "python",
   "pygments_lexer": "ipython3",
   "version": "3.11.12"
  }
 },
 "nbformat": 4,
 "nbformat_minor": 2
}
